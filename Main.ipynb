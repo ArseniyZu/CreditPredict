{
  "nbformat": 4,
  "nbformat_minor": 0,
  "metadata": {
    "kernelspec": {
      "display_name": "Python 3",
      "language": "python",
      "name": "python3"
    },
    "language_info": {
      "codemirror_mode": {
        "name": "ipython",
        "version": 3
      },
      "file_extension": ".py",
      "mimetype": "text/x-python",
      "name": "python",
      "nbconvert_exporter": "python",
      "pygments_lexer": "ipython3",
      "version": "3.7.0"
    },
    "colab": {
      "name": "Зубеня_КР_5сем.ipynb",
      "provenance": [],
      "include_colab_link": true
    }
  },
  "cells": [
    {
      "cell_type": "markdown",
      "metadata": {
        "id": "view-in-github",
        "colab_type": "text"
      },
      "source": [
        "<a href=\"https://colab.research.google.com/github/ArseniyZu/CreditPredict/blob/main/Main.ipynb\" target=\"_parent\"><img src=\"https://colab.research.google.com/assets/colab-badge.svg\" alt=\"Open In Colab\"/></a>"
      ]
    },
    {
      "cell_type": "code",
      "metadata": {
        "id": "pEBaqEg6tkUR"
      },
      "source": [
        "import pandas as pd\n",
        "import seaborn as sns\n",
        "import numpy as np\n",
        "import matplotlib.pyplot as plt"
      ],
      "execution_count": null,
      "outputs": []
    },
    {
      "cell_type": "markdown",
      "metadata": {
        "id": "6M9QXvRStkUS"
      },
      "source": [
        "### Описание датасета\n",
        "Этот набор данных содержит информацию о платежах по умолчанию, демографических факторах, кредитных данных, истории платежей и выписках по счетам клиентов по кредитным картам на Тайване с июля 2005 года по сентябрь 2005 года. Качественные признаки были уже преобразованы в количественные."
      ]
    },
    {
      "cell_type": "code",
      "metadata": {
        "id": "jIdrqBfWtkUS",
        "outputId": "7edc8572-2631-40b8-e975-21a0ddd0402b"
      },
      "source": [
        "df = pd.read_csv('defaultcredit.csv')\n",
        "df.head()"
      ],
      "execution_count": null,
      "outputs": [
        {
          "output_type": "execute_result",
          "data": {
            "text/html": [
              "<div>\n",
              "<style scoped>\n",
              "    .dataframe tbody tr th:only-of-type {\n",
              "        vertical-align: middle;\n",
              "    }\n",
              "\n",
              "    .dataframe tbody tr th {\n",
              "        vertical-align: top;\n",
              "    }\n",
              "\n",
              "    .dataframe thead th {\n",
              "        text-align: right;\n",
              "    }\n",
              "</style>\n",
              "<table border=\"1\" class=\"dataframe\">\n",
              "  <thead>\n",
              "    <tr style=\"text-align: right;\">\n",
              "      <th></th>\n",
              "      <th>ID</th>\n",
              "      <th>LIMIT_BAL</th>\n",
              "      <th>SEX</th>\n",
              "      <th>EDUCATION</th>\n",
              "      <th>MARRIAGE</th>\n",
              "      <th>AGE</th>\n",
              "      <th>Pay1</th>\n",
              "      <th>Pay2</th>\n",
              "      <th>Pay3</th>\n",
              "      <th>Bill_amt1</th>\n",
              "      <th>Bill_amt2</th>\n",
              "      <th>Bill_amt3</th>\n",
              "      <th>Pay_amt1</th>\n",
              "      <th>Pay_amt2</th>\n",
              "      <th>Pay_amt3</th>\n",
              "      <th>default.payment.next.month</th>\n",
              "    </tr>\n",
              "  </thead>\n",
              "  <tbody>\n",
              "    <tr>\n",
              "      <th>0</th>\n",
              "      <td>12</td>\n",
              "      <td>260000.0</td>\n",
              "      <td>Female</td>\n",
              "      <td>1</td>\n",
              "      <td>Single</td>\n",
              "      <td>51</td>\n",
              "      <td>-1</td>\n",
              "      <td>-1</td>\n",
              "      <td>2</td>\n",
              "      <td>8517.0</td>\n",
              "      <td>22287.0</td>\n",
              "      <td>13668.0</td>\n",
              "      <td>22301.0</td>\n",
              "      <td>0.0</td>\n",
              "      <td>3640.0</td>\n",
              "      <td>0</td>\n",
              "    </tr>\n",
              "    <tr>\n",
              "      <th>1</th>\n",
              "      <td>13</td>\n",
              "      <td>630000.0</td>\n",
              "      <td>Female</td>\n",
              "      <td>2</td>\n",
              "      <td>Single</td>\n",
              "      <td>41</td>\n",
              "      <td>-1</td>\n",
              "      <td>-1</td>\n",
              "      <td>-1</td>\n",
              "      <td>6500.0</td>\n",
              "      <td>6500.0</td>\n",
              "      <td>2870.0</td>\n",
              "      <td>6500.0</td>\n",
              "      <td>2870.0</td>\n",
              "      <td>0.0</td>\n",
              "      <td>0</td>\n",
              "    </tr>\n",
              "    <tr>\n",
              "      <th>2</th>\n",
              "      <td>17</td>\n",
              "      <td>20000.0</td>\n",
              "      <td>Male</td>\n",
              "      <td>1</td>\n",
              "      <td>Single</td>\n",
              "      <td>24</td>\n",
              "      <td>2</td>\n",
              "      <td>2</td>\n",
              "      <td>2</td>\n",
              "      <td>18338.0</td>\n",
              "      <td>17905.0</td>\n",
              "      <td>19104.0</td>\n",
              "      <td>0.0</td>\n",
              "      <td>1650.0</td>\n",
              "      <td>0.0</td>\n",
              "      <td>1</td>\n",
              "    </tr>\n",
              "    <tr>\n",
              "      <th>3</th>\n",
              "      <td>18</td>\n",
              "      <td>320000.0</td>\n",
              "      <td>Male</td>\n",
              "      <td>1</td>\n",
              "      <td>Married</td>\n",
              "      <td>49</td>\n",
              "      <td>-1</td>\n",
              "      <td>-1</td>\n",
              "      <td>-1</td>\n",
              "      <td>70074.0</td>\n",
              "      <td>5856.0</td>\n",
              "      <td>195599.0</td>\n",
              "      <td>20000.0</td>\n",
              "      <td>195599.0</td>\n",
              "      <td>50000.0</td>\n",
              "      <td>0</td>\n",
              "    </tr>\n",
              "    <tr>\n",
              "      <th>4</th>\n",
              "      <td>22</td>\n",
              "      <td>120000.0</td>\n",
              "      <td>Female</td>\n",
              "      <td>2</td>\n",
              "      <td>Married</td>\n",
              "      <td>39</td>\n",
              "      <td>-1</td>\n",
              "      <td>-1</td>\n",
              "      <td>-1</td>\n",
              "      <td>0.0</td>\n",
              "      <td>632.0</td>\n",
              "      <td>316.0</td>\n",
              "      <td>632.0</td>\n",
              "      <td>316.0</td>\n",
              "      <td>0.0</td>\n",
              "      <td>1</td>\n",
              "    </tr>\n",
              "  </tbody>\n",
              "</table>\n",
              "</div>"
            ],
            "text/plain": [
              "   ID  LIMIT_BAL     SEX  EDUCATION MARRIAGE  AGE  Pay1  Pay2  Pay3  \\\n",
              "0  12   260000.0  Female          1   Single   51    -1    -1     2   \n",
              "1  13   630000.0  Female          2   Single   41    -1    -1    -1   \n",
              "2  17    20000.0    Male          1   Single   24     2     2     2   \n",
              "3  18   320000.0    Male          1  Married   49    -1    -1    -1   \n",
              "4  22   120000.0  Female          2  Married   39    -1    -1    -1   \n",
              "\n",
              "   Bill_amt1  Bill_amt2  Bill_amt3  Pay_amt1  Pay_amt2  Pay_amt3  \\\n",
              "0     8517.0    22287.0    13668.0   22301.0       0.0    3640.0   \n",
              "1     6500.0     6500.0     2870.0    6500.0    2870.0       0.0   \n",
              "2    18338.0    17905.0    19104.0       0.0    1650.0       0.0   \n",
              "3    70074.0     5856.0   195599.0   20000.0  195599.0   50000.0   \n",
              "4        0.0      632.0      316.0     632.0     316.0       0.0   \n",
              "\n",
              "   default.payment.next.month  \n",
              "0                           0  \n",
              "1                           0  \n",
              "2                           1  \n",
              "3                           0  \n",
              "4                           1  "
            ]
          },
          "metadata": {
            "tags": []
          },
          "execution_count": 297
        }
      ]
    },
    {
      "cell_type": "markdown",
      "metadata": {
        "id": "AHxSGl8wtkUT"
      },
      "source": [
        "Вывод первых 5-и полей для понимания структуры данных"
      ]
    },
    {
      "cell_type": "code",
      "metadata": {
        "id": "l1XPYVWNtkUU",
        "outputId": "6665c4bb-0ee3-4daa-b9f7-57755755b90d"
      },
      "source": [
        "df.shape"
      ],
      "execution_count": null,
      "outputs": [
        {
          "output_type": "execute_result",
          "data": {
            "text/plain": [
              "(5338, 16)"
            ]
          },
          "metadata": {
            "tags": []
          },
          "execution_count": 298
        }
      ]
    },
    {
      "cell_type": "markdown",
      "metadata": {
        "id": "pnqcF2DstkUU"
      },
      "source": [
        "Датасет имеет 16 столбцов и 25312 наблюдения "
      ]
    },
    {
      "cell_type": "code",
      "metadata": {
        "id": "ZBZ14SbTtkUU",
        "outputId": "defa4ae5-623c-4a6f-8b4f-af7628c85bcc"
      },
      "source": [
        "df.dtypes"
      ],
      "execution_count": null,
      "outputs": [
        {
          "output_type": "execute_result",
          "data": {
            "text/plain": [
              "ID                              int64\n",
              "LIMIT_BAL                     float64\n",
              "SEX                            object\n",
              "EDUCATION                       int64\n",
              "MARRIAGE                       object\n",
              "AGE                             int64\n",
              "Pay1                            int64\n",
              "Pay2                            int64\n",
              "Pay3                            int64\n",
              "Bill_amt1                     float64\n",
              "Bill_amt2                     float64\n",
              "Bill_amt3                     float64\n",
              "Pay_amt1                      float64\n",
              "Pay_amt2                      float64\n",
              "Pay_amt3                      float64\n",
              "default.payment.next.month      int64\n",
              "dtype: object"
            ]
          },
          "metadata": {
            "tags": []
          },
          "execution_count": 299
        }
      ]
    },
    {
      "cell_type": "markdown",
      "metadata": {
        "id": "AQwtmWcitkUV"
      },
      "source": [
        "Тип данных в каждом из столбцов, мы видим только количественные признаки"
      ]
    },
    {
      "cell_type": "code",
      "metadata": {
        "id": "ZAn6JFjNtkUV",
        "outputId": "d1d3beca-6310-4d94-ba7b-8fcacc28b2ff"
      },
      "source": [
        "df.columns"
      ],
      "execution_count": null,
      "outputs": [
        {
          "output_type": "execute_result",
          "data": {
            "text/plain": [
              "Index(['ID', 'LIMIT_BAL', 'SEX', 'EDUCATION', 'MARRIAGE', 'AGE', 'Pay1',\n",
              "       'Pay2', 'Pay3', 'Bill_amt1', 'Bill_amt2', 'Bill_amt3', 'Pay_amt1',\n",
              "       'Pay_amt2', 'Pay_amt3', 'default.payment.next.month'],\n",
              "      dtype='object')"
            ]
          },
          "metadata": {
            "tags": []
          },
          "execution_count": 300
        }
      ]
    },
    {
      "cell_type": "markdown",
      "metadata": {
        "id": "P66VZv9KtkUV"
      },
      "source": [
        "### Физическое описание датасета   \n",
        "\n",
        "#### Экзогенные переменные:    \n",
        "ID : ID каждого клиента   \n",
        "LIMIT_BAL : сумма предоставленного кредита в тайваньских долларах (включает индивидуальный и семейный / дополнительный кредит   \n",
        "SEX : Male/Female   \n",
        "EDUCATION : (1 = аспирантура, 2 = университет, 3 = средняя школа, 4 = другие, 5 = неизвестно, 6 = неизвестно)   \n",
        "MARRIAGE : Married, Single, Other  \n",
        "AGE : Возраст в годах   \n",
        "Pay3 : Статус погашения в сентябре 2005 г. (-1 = надлежащая оплата, 1 = задержка платежа на один месяц, 2 = задержка платежа на два месяца,… 8 = задержка платежа на восемь месяцев, 9 = задержка платежа на девять месяцев и более)   \n",
        "Pay2 : Статус погашения в августе 2005 г. (шкала такая же, как указано выше)   \n",
        "Pay1 : Статус погашения в июле 2005 г. (шкала такая же, как указано выше)   \n",
        "Bill_amt3 : Сумма выписки по счету за сентябрь 2005 г. (NT-доллар)   \n",
        "Bill_amt2 : Сумма выписки по счету в августе 2005 г. (NT-доллар)   \n",
        "Bill_amt1 : Сумма выписки по счету в июле 2005 г. (NT-доллар)    \n",
        "Pay_amt3 : Сумма предыдущего платежа в сентябре 2005 г. (NT-доллар)   \n",
        "Pay_amt2 : Сумма предыдущего платежа в августе 2005 г. (NT-доллар)   \n",
        "Pay_amt1 : Сумма предыдущего платежа в июле 2005 г. (NT-доллар)  \n",
        "#### Эндогенная переменная:    \n",
        "default.payment.next.month : платеж по умолчанию (1 = да, 0 = нет)"
      ]
    },
    {
      "cell_type": "markdown",
      "metadata": {
        "id": "_fNKIi1OtkUW"
      },
      "source": [
        "Удалим ненужные для модели данные (ID)"
      ]
    },
    {
      "cell_type": "code",
      "metadata": {
        "id": "Kq9W_iLMtkUW"
      },
      "source": [
        "df.drop(columns=[\"ID\"], inplace=True)"
      ],
      "execution_count": null,
      "outputs": []
    },
    {
      "cell_type": "markdown",
      "metadata": {
        "id": "DwtJz0DktkUX"
      },
      "source": [
        "Проверим на наличие пропусков в данных"
      ]
    },
    {
      "cell_type": "code",
      "metadata": {
        "id": "hOv4m9u8tkUX",
        "outputId": "a3680540-d0ad-4972-f564-23516b389be6"
      },
      "source": [
        "df.isna().sum()"
      ],
      "execution_count": null,
      "outputs": [
        {
          "output_type": "execute_result",
          "data": {
            "text/plain": [
              "LIMIT_BAL                     0\n",
              "SEX                           0\n",
              "EDUCATION                     0\n",
              "MARRIAGE                      0\n",
              "AGE                           0\n",
              "Pay1                          0\n",
              "Pay2                          0\n",
              "Pay3                          0\n",
              "Bill_amt1                     0\n",
              "Bill_amt2                     0\n",
              "Bill_amt3                     0\n",
              "Pay_amt1                      0\n",
              "Pay_amt2                      0\n",
              "Pay_amt3                      0\n",
              "default.payment.next.month    0\n",
              "dtype: int64"
            ]
          },
          "metadata": {
            "tags": []
          },
          "execution_count": 302
        }
      ]
    },
    {
      "cell_type": "markdown",
      "metadata": {
        "id": "s-Vm3BC5tkUX"
      },
      "source": [
        "Выведем количество уникальных значений для каждого столбца"
      ]
    },
    {
      "cell_type": "code",
      "metadata": {
        "id": "-U5mlgshtkUX",
        "outputId": "7ac161f4-4e52-413c-b5a1-438583b65985"
      },
      "source": [
        "df.nunique()"
      ],
      "execution_count": null,
      "outputs": [
        {
          "output_type": "execute_result",
          "data": {
            "text/plain": [
              "LIMIT_BAL                       64\n",
              "SEX                              2\n",
              "EDUCATION                        7\n",
              "MARRIAGE                         4\n",
              "AGE                             52\n",
              "Pay1                             9\n",
              "Pay2                             8\n",
              "Pay3                             8\n",
              "Bill_amt1                     3993\n",
              "Bill_amt2                     3976\n",
              "Bill_amt3                     3973\n",
              "Pay_amt1                      2410\n",
              "Pay_amt2                      2353\n",
              "Pay_amt3                      2219\n",
              "default.payment.next.month       2\n",
              "dtype: int64"
            ]
          },
          "metadata": {
            "tags": []
          },
          "execution_count": 303
        }
      ]
    },
    {
      "cell_type": "code",
      "metadata": {
        "id": "L7zKHCcwtkUY",
        "outputId": "84b4e160-87b3-4c11-bc3b-7afc008d89a4"
      },
      "source": [
        "df.EDUCATION.unique()"
      ],
      "execution_count": null,
      "outputs": [
        {
          "output_type": "execute_result",
          "data": {
            "text/plain": [
              "array([1, 2, 3, 6, 4, 0, 5], dtype=int64)"
            ]
          },
          "metadata": {
            "tags": []
          },
          "execution_count": 304
        }
      ]
    },
    {
      "cell_type": "code",
      "metadata": {
        "id": "_rWHONTetkUY",
        "outputId": "4222de37-6bc4-4055-db15-6fef8a3e19bb"
      },
      "source": [
        "df.shape"
      ],
      "execution_count": null,
      "outputs": [
        {
          "output_type": "execute_result",
          "data": {
            "text/plain": [
              "(5338, 15)"
            ]
          },
          "metadata": {
            "tags": []
          },
          "execution_count": 305
        }
      ]
    },
    {
      "cell_type": "code",
      "metadata": {
        "id": "ug39ED3rtkUY",
        "outputId": "84f185a1-4475-49e5-d79e-8325e01de54d"
      },
      "source": [
        "df.drop(df[df.EDUCATION == 0].index, inplace = True)\n",
        "df.shape"
      ],
      "execution_count": null,
      "outputs": [
        {
          "output_type": "execute_result",
          "data": {
            "text/plain": [
              "(5334, 15)"
            ]
          },
          "metadata": {
            "tags": []
          },
          "execution_count": 306
        }
      ]
    },
    {
      "cell_type": "code",
      "metadata": {
        "id": "7mcwGNHltkUZ",
        "outputId": "9e1a7ec5-15c3-4f9c-c37d-3b9bbec9728c"
      },
      "source": [
        "df.EDUCATION.unique()"
      ],
      "execution_count": null,
      "outputs": [
        {
          "output_type": "execute_result",
          "data": {
            "text/plain": [
              "array([1, 2, 3, 6, 4, 5], dtype=int64)"
            ]
          },
          "metadata": {
            "tags": []
          },
          "execution_count": 307
        }
      ]
    },
    {
      "cell_type": "code",
      "metadata": {
        "id": "Ya76_-IstkUZ",
        "outputId": "fde24855-341a-436f-e8cf-aa49f73122de"
      },
      "source": [
        "df.MARRIAGE.unique()"
      ],
      "execution_count": null,
      "outputs": [
        {
          "output_type": "execute_result",
          "data": {
            "text/plain": [
              "array(['Single', 'Married', 'Other', '0'], dtype=object)"
            ]
          },
          "metadata": {
            "tags": []
          },
          "execution_count": 308
        }
      ]
    },
    {
      "cell_type": "code",
      "metadata": {
        "id": "H7QDn3gjtkUZ"
      },
      "source": [
        "df.drop(df[df.MARRIAGE == \"0\"].index, inplace = True)"
      ],
      "execution_count": null,
      "outputs": []
    },
    {
      "cell_type": "code",
      "metadata": {
        "id": "gpDEdkYWtkUZ",
        "outputId": "c33220d4-3c48-435f-f4ed-faf1623b1634"
      },
      "source": [
        "df.MARRIAGE.unique()"
      ],
      "execution_count": null,
      "outputs": [
        {
          "output_type": "execute_result",
          "data": {
            "text/plain": [
              "array(['Single', 'Married', 'Other'], dtype=object)"
            ]
          },
          "metadata": {
            "tags": []
          },
          "execution_count": 310
        }
      ]
    },
    {
      "cell_type": "code",
      "metadata": {
        "id": "ljyjlpZctkUa",
        "outputId": "788438bd-31c2-4f8d-9c16-6885c0dcb6e2"
      },
      "source": [
        "df.shape"
      ],
      "execution_count": null,
      "outputs": [
        {
          "output_type": "execute_result",
          "data": {
            "text/plain": [
              "(5320, 15)"
            ]
          },
          "metadata": {
            "tags": []
          },
          "execution_count": 311
        }
      ]
    },
    {
      "cell_type": "markdown",
      "metadata": {
        "id": "dGtvVc0etkUa"
      },
      "source": [
        "### Преобразуем качественные данные в количественные\n",
        "Используем метод LabelEncoder"
      ]
    },
    {
      "cell_type": "code",
      "metadata": {
        "id": "kcNOXBAhtkUa",
        "outputId": "40691d63-c804-49e7-85d0-287c22e55606"
      },
      "source": [
        "from sklearn import preprocessing\n",
        "le = preprocessing.LabelEncoder()\n",
        "le.fit(df.SEX)\n",
        "df.SEX = le.transform(df.SEX)\n",
        "df.head()"
      ],
      "execution_count": null,
      "outputs": [
        {
          "output_type": "execute_result",
          "data": {
            "text/html": [
              "<div>\n",
              "<style scoped>\n",
              "    .dataframe tbody tr th:only-of-type {\n",
              "        vertical-align: middle;\n",
              "    }\n",
              "\n",
              "    .dataframe tbody tr th {\n",
              "        vertical-align: top;\n",
              "    }\n",
              "\n",
              "    .dataframe thead th {\n",
              "        text-align: right;\n",
              "    }\n",
              "</style>\n",
              "<table border=\"1\" class=\"dataframe\">\n",
              "  <thead>\n",
              "    <tr style=\"text-align: right;\">\n",
              "      <th></th>\n",
              "      <th>LIMIT_BAL</th>\n",
              "      <th>SEX</th>\n",
              "      <th>EDUCATION</th>\n",
              "      <th>MARRIAGE</th>\n",
              "      <th>AGE</th>\n",
              "      <th>Pay1</th>\n",
              "      <th>Pay2</th>\n",
              "      <th>Pay3</th>\n",
              "      <th>Bill_amt1</th>\n",
              "      <th>Bill_amt2</th>\n",
              "      <th>Bill_amt3</th>\n",
              "      <th>Pay_amt1</th>\n",
              "      <th>Pay_amt2</th>\n",
              "      <th>Pay_amt3</th>\n",
              "      <th>default.payment.next.month</th>\n",
              "    </tr>\n",
              "  </thead>\n",
              "  <tbody>\n",
              "    <tr>\n",
              "      <th>0</th>\n",
              "      <td>260000.0</td>\n",
              "      <td>0</td>\n",
              "      <td>1</td>\n",
              "      <td>Single</td>\n",
              "      <td>51</td>\n",
              "      <td>-1</td>\n",
              "      <td>-1</td>\n",
              "      <td>2</td>\n",
              "      <td>8517.0</td>\n",
              "      <td>22287.0</td>\n",
              "      <td>13668.0</td>\n",
              "      <td>22301.0</td>\n",
              "      <td>0.0</td>\n",
              "      <td>3640.0</td>\n",
              "      <td>0</td>\n",
              "    </tr>\n",
              "    <tr>\n",
              "      <th>1</th>\n",
              "      <td>630000.0</td>\n",
              "      <td>0</td>\n",
              "      <td>2</td>\n",
              "      <td>Single</td>\n",
              "      <td>41</td>\n",
              "      <td>-1</td>\n",
              "      <td>-1</td>\n",
              "      <td>-1</td>\n",
              "      <td>6500.0</td>\n",
              "      <td>6500.0</td>\n",
              "      <td>2870.0</td>\n",
              "      <td>6500.0</td>\n",
              "      <td>2870.0</td>\n",
              "      <td>0.0</td>\n",
              "      <td>0</td>\n",
              "    </tr>\n",
              "    <tr>\n",
              "      <th>2</th>\n",
              "      <td>20000.0</td>\n",
              "      <td>1</td>\n",
              "      <td>1</td>\n",
              "      <td>Single</td>\n",
              "      <td>24</td>\n",
              "      <td>2</td>\n",
              "      <td>2</td>\n",
              "      <td>2</td>\n",
              "      <td>18338.0</td>\n",
              "      <td>17905.0</td>\n",
              "      <td>19104.0</td>\n",
              "      <td>0.0</td>\n",
              "      <td>1650.0</td>\n",
              "      <td>0.0</td>\n",
              "      <td>1</td>\n",
              "    </tr>\n",
              "    <tr>\n",
              "      <th>3</th>\n",
              "      <td>320000.0</td>\n",
              "      <td>1</td>\n",
              "      <td>1</td>\n",
              "      <td>Married</td>\n",
              "      <td>49</td>\n",
              "      <td>-1</td>\n",
              "      <td>-1</td>\n",
              "      <td>-1</td>\n",
              "      <td>70074.0</td>\n",
              "      <td>5856.0</td>\n",
              "      <td>195599.0</td>\n",
              "      <td>20000.0</td>\n",
              "      <td>195599.0</td>\n",
              "      <td>50000.0</td>\n",
              "      <td>0</td>\n",
              "    </tr>\n",
              "    <tr>\n",
              "      <th>4</th>\n",
              "      <td>120000.0</td>\n",
              "      <td>0</td>\n",
              "      <td>2</td>\n",
              "      <td>Married</td>\n",
              "      <td>39</td>\n",
              "      <td>-1</td>\n",
              "      <td>-1</td>\n",
              "      <td>-1</td>\n",
              "      <td>0.0</td>\n",
              "      <td>632.0</td>\n",
              "      <td>316.0</td>\n",
              "      <td>632.0</td>\n",
              "      <td>316.0</td>\n",
              "      <td>0.0</td>\n",
              "      <td>1</td>\n",
              "    </tr>\n",
              "  </tbody>\n",
              "</table>\n",
              "</div>"
            ],
            "text/plain": [
              "   LIMIT_BAL  SEX  EDUCATION MARRIAGE  AGE  Pay1  Pay2  Pay3  Bill_amt1  \\\n",
              "0   260000.0    0          1   Single   51    -1    -1     2     8517.0   \n",
              "1   630000.0    0          2   Single   41    -1    -1    -1     6500.0   \n",
              "2    20000.0    1          1   Single   24     2     2     2    18338.0   \n",
              "3   320000.0    1          1  Married   49    -1    -1    -1    70074.0   \n",
              "4   120000.0    0          2  Married   39    -1    -1    -1        0.0   \n",
              "\n",
              "   Bill_amt2  Bill_amt3  Pay_amt1  Pay_amt2  Pay_amt3  \\\n",
              "0    22287.0    13668.0   22301.0       0.0    3640.0   \n",
              "1     6500.0     2870.0    6500.0    2870.0       0.0   \n",
              "2    17905.0    19104.0       0.0    1650.0       0.0   \n",
              "3     5856.0   195599.0   20000.0  195599.0   50000.0   \n",
              "4      632.0      316.0     632.0     316.0       0.0   \n",
              "\n",
              "   default.payment.next.month  \n",
              "0                           0  \n",
              "1                           0  \n",
              "2                           1  \n",
              "3                           0  \n",
              "4                           1  "
            ]
          },
          "metadata": {
            "tags": []
          },
          "execution_count": 312
        }
      ]
    },
    {
      "cell_type": "markdown",
      "metadata": {
        "id": "U0dY0PjitkUa"
      },
      "source": [
        "Теперь 0 - девушка, 1 - мужчина"
      ]
    },
    {
      "cell_type": "code",
      "metadata": {
        "scrolled": true,
        "id": "gayQXiSetkUb",
        "outputId": "904a51f2-e8fc-4304-9098-cc416a71ad72"
      },
      "source": [
        "le2 = preprocessing.LabelEncoder()\n",
        "le2.fit(df.MARRIAGE)\n",
        "print(le2.transform(df.MARRIAGE))\n",
        "df.MARRIAGE = le2.transform(df.MARRIAGE)\n",
        "df.head()"
      ],
      "execution_count": null,
      "outputs": [
        {
          "output_type": "stream",
          "text": [
            "[2 2 2 ... 2 0 2]\n"
          ],
          "name": "stdout"
        },
        {
          "output_type": "execute_result",
          "data": {
            "text/html": [
              "<div>\n",
              "<style scoped>\n",
              "    .dataframe tbody tr th:only-of-type {\n",
              "        vertical-align: middle;\n",
              "    }\n",
              "\n",
              "    .dataframe tbody tr th {\n",
              "        vertical-align: top;\n",
              "    }\n",
              "\n",
              "    .dataframe thead th {\n",
              "        text-align: right;\n",
              "    }\n",
              "</style>\n",
              "<table border=\"1\" class=\"dataframe\">\n",
              "  <thead>\n",
              "    <tr style=\"text-align: right;\">\n",
              "      <th></th>\n",
              "      <th>LIMIT_BAL</th>\n",
              "      <th>SEX</th>\n",
              "      <th>EDUCATION</th>\n",
              "      <th>MARRIAGE</th>\n",
              "      <th>AGE</th>\n",
              "      <th>Pay1</th>\n",
              "      <th>Pay2</th>\n",
              "      <th>Pay3</th>\n",
              "      <th>Bill_amt1</th>\n",
              "      <th>Bill_amt2</th>\n",
              "      <th>Bill_amt3</th>\n",
              "      <th>Pay_amt1</th>\n",
              "      <th>Pay_amt2</th>\n",
              "      <th>Pay_amt3</th>\n",
              "      <th>default.payment.next.month</th>\n",
              "    </tr>\n",
              "  </thead>\n",
              "  <tbody>\n",
              "    <tr>\n",
              "      <th>0</th>\n",
              "      <td>260000.0</td>\n",
              "      <td>0</td>\n",
              "      <td>1</td>\n",
              "      <td>2</td>\n",
              "      <td>51</td>\n",
              "      <td>-1</td>\n",
              "      <td>-1</td>\n",
              "      <td>2</td>\n",
              "      <td>8517.0</td>\n",
              "      <td>22287.0</td>\n",
              "      <td>13668.0</td>\n",
              "      <td>22301.0</td>\n",
              "      <td>0.0</td>\n",
              "      <td>3640.0</td>\n",
              "      <td>0</td>\n",
              "    </tr>\n",
              "    <tr>\n",
              "      <th>1</th>\n",
              "      <td>630000.0</td>\n",
              "      <td>0</td>\n",
              "      <td>2</td>\n",
              "      <td>2</td>\n",
              "      <td>41</td>\n",
              "      <td>-1</td>\n",
              "      <td>-1</td>\n",
              "      <td>-1</td>\n",
              "      <td>6500.0</td>\n",
              "      <td>6500.0</td>\n",
              "      <td>2870.0</td>\n",
              "      <td>6500.0</td>\n",
              "      <td>2870.0</td>\n",
              "      <td>0.0</td>\n",
              "      <td>0</td>\n",
              "    </tr>\n",
              "    <tr>\n",
              "      <th>2</th>\n",
              "      <td>20000.0</td>\n",
              "      <td>1</td>\n",
              "      <td>1</td>\n",
              "      <td>2</td>\n",
              "      <td>24</td>\n",
              "      <td>2</td>\n",
              "      <td>2</td>\n",
              "      <td>2</td>\n",
              "      <td>18338.0</td>\n",
              "      <td>17905.0</td>\n",
              "      <td>19104.0</td>\n",
              "      <td>0.0</td>\n",
              "      <td>1650.0</td>\n",
              "      <td>0.0</td>\n",
              "      <td>1</td>\n",
              "    </tr>\n",
              "    <tr>\n",
              "      <th>3</th>\n",
              "      <td>320000.0</td>\n",
              "      <td>1</td>\n",
              "      <td>1</td>\n",
              "      <td>0</td>\n",
              "      <td>49</td>\n",
              "      <td>-1</td>\n",
              "      <td>-1</td>\n",
              "      <td>-1</td>\n",
              "      <td>70074.0</td>\n",
              "      <td>5856.0</td>\n",
              "      <td>195599.0</td>\n",
              "      <td>20000.0</td>\n",
              "      <td>195599.0</td>\n",
              "      <td>50000.0</td>\n",
              "      <td>0</td>\n",
              "    </tr>\n",
              "    <tr>\n",
              "      <th>4</th>\n",
              "      <td>120000.0</td>\n",
              "      <td>0</td>\n",
              "      <td>2</td>\n",
              "      <td>0</td>\n",
              "      <td>39</td>\n",
              "      <td>-1</td>\n",
              "      <td>-1</td>\n",
              "      <td>-1</td>\n",
              "      <td>0.0</td>\n",
              "      <td>632.0</td>\n",
              "      <td>316.0</td>\n",
              "      <td>632.0</td>\n",
              "      <td>316.0</td>\n",
              "      <td>0.0</td>\n",
              "      <td>1</td>\n",
              "    </tr>\n",
              "  </tbody>\n",
              "</table>\n",
              "</div>"
            ],
            "text/plain": [
              "   LIMIT_BAL  SEX  EDUCATION  MARRIAGE  AGE  Pay1  Pay2  Pay3  Bill_amt1  \\\n",
              "0   260000.0    0          1         2   51    -1    -1     2     8517.0   \n",
              "1   630000.0    0          2         2   41    -1    -1    -1     6500.0   \n",
              "2    20000.0    1          1         2   24     2     2     2    18338.0   \n",
              "3   320000.0    1          1         0   49    -1    -1    -1    70074.0   \n",
              "4   120000.0    0          2         0   39    -1    -1    -1        0.0   \n",
              "\n",
              "   Bill_amt2  Bill_amt3  Pay_amt1  Pay_amt2  Pay_amt3  \\\n",
              "0    22287.0    13668.0   22301.0       0.0    3640.0   \n",
              "1     6500.0     2870.0    6500.0    2870.0       0.0   \n",
              "2    17905.0    19104.0       0.0    1650.0       0.0   \n",
              "3     5856.0   195599.0   20000.0  195599.0   50000.0   \n",
              "4      632.0      316.0     632.0     316.0       0.0   \n",
              "\n",
              "   default.payment.next.month  \n",
              "0                           0  \n",
              "1                           0  \n",
              "2                           1  \n",
              "3                           0  \n",
              "4                           1  "
            ]
          },
          "metadata": {
            "tags": []
          },
          "execution_count": 313
        }
      ]
    },
    {
      "cell_type": "markdown",
      "metadata": {
        "id": "fOuOtn3FtkUb"
      },
      "source": [
        "Теперь 0 - женат/замужем, 2 - одинок, 1 - другое"
      ]
    },
    {
      "cell_type": "markdown",
      "metadata": {
        "id": "Ee31aB7rtkUb"
      },
      "source": [
        "### Количественные характеристики данных"
      ]
    },
    {
      "cell_type": "code",
      "metadata": {
        "id": "aKSPjTCMtkUb",
        "outputId": "8e6fe868-a449-48c7-d25a-313e7ae04df0"
      },
      "source": [
        "df.describe()"
      ],
      "execution_count": null,
      "outputs": [
        {
          "output_type": "execute_result",
          "data": {
            "text/html": [
              "<div>\n",
              "<style scoped>\n",
              "    .dataframe tbody tr th:only-of-type {\n",
              "        vertical-align: middle;\n",
              "    }\n",
              "\n",
              "    .dataframe tbody tr th {\n",
              "        vertical-align: top;\n",
              "    }\n",
              "\n",
              "    .dataframe thead th {\n",
              "        text-align: right;\n",
              "    }\n",
              "</style>\n",
              "<table border=\"1\" class=\"dataframe\">\n",
              "  <thead>\n",
              "    <tr style=\"text-align: right;\">\n",
              "      <th></th>\n",
              "      <th>LIMIT_BAL</th>\n",
              "      <th>SEX</th>\n",
              "      <th>EDUCATION</th>\n",
              "      <th>MARRIAGE</th>\n",
              "      <th>AGE</th>\n",
              "      <th>Pay1</th>\n",
              "      <th>Pay2</th>\n",
              "      <th>Pay3</th>\n",
              "      <th>Bill_amt1</th>\n",
              "      <th>Bill_amt2</th>\n",
              "      <th>Bill_amt3</th>\n",
              "      <th>Pay_amt1</th>\n",
              "      <th>Pay_amt2</th>\n",
              "      <th>Pay_amt3</th>\n",
              "      <th>default.payment.next.month</th>\n",
              "    </tr>\n",
              "  </thead>\n",
              "  <tbody>\n",
              "    <tr>\n",
              "      <th>count</th>\n",
              "      <td>5320.000000</td>\n",
              "      <td>5320.000000</td>\n",
              "      <td>5320.000000</td>\n",
              "      <td>5320.000000</td>\n",
              "      <td>5320.000000</td>\n",
              "      <td>5320.000000</td>\n",
              "      <td>5320.000000</td>\n",
              "      <td>5320.000000</td>\n",
              "      <td>5320.000000</td>\n",
              "      <td>5320.000000</td>\n",
              "      <td>5320.000000</td>\n",
              "      <td>5320.000000</td>\n",
              "      <td>5320.000000</td>\n",
              "      <td>5320.000000</td>\n",
              "      <td>5320.000000</td>\n",
              "    </tr>\n",
              "    <tr>\n",
              "      <th>mean</th>\n",
              "      <td>169996.240602</td>\n",
              "      <td>0.397744</td>\n",
              "      <td>1.768985</td>\n",
              "      <td>0.980451</td>\n",
              "      <td>36.244173</td>\n",
              "      <td>0.239286</td>\n",
              "      <td>0.209398</td>\n",
              "      <td>0.221429</td>\n",
              "      <td>22099.053759</td>\n",
              "      <td>22023.530827</td>\n",
              "      <td>22517.390602</td>\n",
              "      <td>4792.756203</td>\n",
              "      <td>5120.728759</td>\n",
              "      <td>4768.647180</td>\n",
              "      <td>0.326504</td>\n",
              "    </tr>\n",
              "    <tr>\n",
              "      <th>std</th>\n",
              "      <td>126243.690674</td>\n",
              "      <td>0.489478</td>\n",
              "      <td>0.756383</td>\n",
              "      <td>0.995380</td>\n",
              "      <td>9.169928</td>\n",
              "      <td>1.735379</td>\n",
              "      <td>1.721475</td>\n",
              "      <td>1.694642</td>\n",
              "      <td>43197.351426</td>\n",
              "      <td>42484.812261</td>\n",
              "      <td>43833.864567</td>\n",
              "      <td>12087.677791</td>\n",
              "      <td>15775.508516</td>\n",
              "      <td>15666.402091</td>\n",
              "      <td>0.468978</td>\n",
              "    </tr>\n",
              "    <tr>\n",
              "      <th>min</th>\n",
              "      <td>10000.000000</td>\n",
              "      <td>0.000000</td>\n",
              "      <td>1.000000</td>\n",
              "      <td>0.000000</td>\n",
              "      <td>21.000000</td>\n",
              "      <td>-1.000000</td>\n",
              "      <td>-1.000000</td>\n",
              "      <td>-1.000000</td>\n",
              "      <td>-3903.000000</td>\n",
              "      <td>-15306.000000</td>\n",
              "      <td>-339603.000000</td>\n",
              "      <td>0.000000</td>\n",
              "      <td>0.000000</td>\n",
              "      <td>0.000000</td>\n",
              "      <td>0.000000</td>\n",
              "    </tr>\n",
              "    <tr>\n",
              "      <th>25%</th>\n",
              "      <td>60000.000000</td>\n",
              "      <td>0.000000</td>\n",
              "      <td>1.000000</td>\n",
              "      <td>0.000000</td>\n",
              "      <td>29.000000</td>\n",
              "      <td>-1.000000</td>\n",
              "      <td>-1.000000</td>\n",
              "      <td>-1.000000</td>\n",
              "      <td>889.750000</td>\n",
              "      <td>884.250000</td>\n",
              "      <td>801.500000</td>\n",
              "      <td>328.500000</td>\n",
              "      <td>2.000000</td>\n",
              "      <td>0.000000</td>\n",
              "      <td>0.000000</td>\n",
              "    </tr>\n",
              "    <tr>\n",
              "      <th>50%</th>\n",
              "      <td>150000.000000</td>\n",
              "      <td>0.000000</td>\n",
              "      <td>2.000000</td>\n",
              "      <td>0.000000</td>\n",
              "      <td>35.000000</td>\n",
              "      <td>-1.000000</td>\n",
              "      <td>-1.000000</td>\n",
              "      <td>-1.000000</td>\n",
              "      <td>4467.500000</td>\n",
              "      <td>4272.000000</td>\n",
              "      <td>4477.000000</td>\n",
              "      <td>1500.000000</td>\n",
              "      <td>1257.000000</td>\n",
              "      <td>1040.000000</td>\n",
              "      <td>0.000000</td>\n",
              "    </tr>\n",
              "    <tr>\n",
              "      <th>75%</th>\n",
              "      <td>240000.000000</td>\n",
              "      <td>1.000000</td>\n",
              "      <td>2.000000</td>\n",
              "      <td>2.000000</td>\n",
              "      <td>42.000000</td>\n",
              "      <td>2.000000</td>\n",
              "      <td>2.000000</td>\n",
              "      <td>2.000000</td>\n",
              "      <td>22916.250000</td>\n",
              "      <td>23520.250000</td>\n",
              "      <td>24527.250000</td>\n",
              "      <td>4296.250000</td>\n",
              "      <td>4167.500000</td>\n",
              "      <td>3686.750000</td>\n",
              "      <td>1.000000</td>\n",
              "    </tr>\n",
              "    <tr>\n",
              "      <th>max</th>\n",
              "      <td>800000.000000</td>\n",
              "      <td>1.000000</td>\n",
              "      <td>6.000000</td>\n",
              "      <td>2.000000</td>\n",
              "      <td>75.000000</td>\n",
              "      <td>8.000000</td>\n",
              "      <td>8.000000</td>\n",
              "      <td>8.000000</td>\n",
              "      <td>486776.000000</td>\n",
              "      <td>503914.000000</td>\n",
              "      <td>527711.000000</td>\n",
              "      <td>250144.000000</td>\n",
              "      <td>303512.000000</td>\n",
              "      <td>345293.000000</td>\n",
              "      <td>1.000000</td>\n",
              "    </tr>\n",
              "  </tbody>\n",
              "</table>\n",
              "</div>"
            ],
            "text/plain": [
              "           LIMIT_BAL          SEX    EDUCATION     MARRIAGE          AGE  \\\n",
              "count    5320.000000  5320.000000  5320.000000  5320.000000  5320.000000   \n",
              "mean   169996.240602     0.397744     1.768985     0.980451    36.244173   \n",
              "std    126243.690674     0.489478     0.756383     0.995380     9.169928   \n",
              "min     10000.000000     0.000000     1.000000     0.000000    21.000000   \n",
              "25%     60000.000000     0.000000     1.000000     0.000000    29.000000   \n",
              "50%    150000.000000     0.000000     2.000000     0.000000    35.000000   \n",
              "75%    240000.000000     1.000000     2.000000     2.000000    42.000000   \n",
              "max    800000.000000     1.000000     6.000000     2.000000    75.000000   \n",
              "\n",
              "              Pay1         Pay2         Pay3      Bill_amt1      Bill_amt2  \\\n",
              "count  5320.000000  5320.000000  5320.000000    5320.000000    5320.000000   \n",
              "mean      0.239286     0.209398     0.221429   22099.053759   22023.530827   \n",
              "std       1.735379     1.721475     1.694642   43197.351426   42484.812261   \n",
              "min      -1.000000    -1.000000    -1.000000   -3903.000000  -15306.000000   \n",
              "25%      -1.000000    -1.000000    -1.000000     889.750000     884.250000   \n",
              "50%      -1.000000    -1.000000    -1.000000    4467.500000    4272.000000   \n",
              "75%       2.000000     2.000000     2.000000   22916.250000   23520.250000   \n",
              "max       8.000000     8.000000     8.000000  486776.000000  503914.000000   \n",
              "\n",
              "           Bill_amt3       Pay_amt1       Pay_amt2       Pay_amt3  \\\n",
              "count    5320.000000    5320.000000    5320.000000    5320.000000   \n",
              "mean    22517.390602    4792.756203    5120.728759    4768.647180   \n",
              "std     43833.864567   12087.677791   15775.508516   15666.402091   \n",
              "min   -339603.000000       0.000000       0.000000       0.000000   \n",
              "25%       801.500000     328.500000       2.000000       0.000000   \n",
              "50%      4477.000000    1500.000000    1257.000000    1040.000000   \n",
              "75%     24527.250000    4296.250000    4167.500000    3686.750000   \n",
              "max    527711.000000  250144.000000  303512.000000  345293.000000   \n",
              "\n",
              "       default.payment.next.month  \n",
              "count                 5320.000000  \n",
              "mean                     0.326504  \n",
              "std                      0.468978  \n",
              "min                      0.000000  \n",
              "25%                      0.000000  \n",
              "50%                      0.000000  \n",
              "75%                      1.000000  \n",
              "max                      1.000000  "
            ]
          },
          "metadata": {
            "tags": []
          },
          "execution_count": 314
        }
      ]
    },
    {
      "cell_type": "markdown",
      "metadata": {
        "id": "c5QZNVCOtkUb"
      },
      "source": [
        "### Корреляция, матрица корреляций"
      ]
    },
    {
      "cell_type": "code",
      "metadata": {
        "id": "9Pgj41bDtkUb",
        "outputId": "0894704a-3828-4140-c61c-64618fb08903"
      },
      "source": [
        "df.corr()"
      ],
      "execution_count": null,
      "outputs": [
        {
          "output_type": "execute_result",
          "data": {
            "text/html": [
              "<div>\n",
              "<style scoped>\n",
              "    .dataframe tbody tr th:only-of-type {\n",
              "        vertical-align: middle;\n",
              "    }\n",
              "\n",
              "    .dataframe tbody tr th {\n",
              "        vertical-align: top;\n",
              "    }\n",
              "\n",
              "    .dataframe thead th {\n",
              "        text-align: right;\n",
              "    }\n",
              "</style>\n",
              "<table border=\"1\" class=\"dataframe\">\n",
              "  <thead>\n",
              "    <tr style=\"text-align: right;\">\n",
              "      <th></th>\n",
              "      <th>LIMIT_BAL</th>\n",
              "      <th>SEX</th>\n",
              "      <th>EDUCATION</th>\n",
              "      <th>MARRIAGE</th>\n",
              "      <th>AGE</th>\n",
              "      <th>Pay1</th>\n",
              "      <th>Pay2</th>\n",
              "      <th>Pay3</th>\n",
              "      <th>Bill_amt1</th>\n",
              "      <th>Bill_amt2</th>\n",
              "      <th>Bill_amt3</th>\n",
              "      <th>Pay_amt1</th>\n",
              "      <th>Pay_amt2</th>\n",
              "      <th>Pay_amt3</th>\n",
              "      <th>default.payment.next.month</th>\n",
              "    </tr>\n",
              "  </thead>\n",
              "  <tbody>\n",
              "    <tr>\n",
              "      <th>LIMIT_BAL</th>\n",
              "      <td>1.000000</td>\n",
              "      <td>0.010642</td>\n",
              "      <td>-0.236333</td>\n",
              "      <td>-0.131825</td>\n",
              "      <td>0.198323</td>\n",
              "      <td>-0.411370</td>\n",
              "      <td>-0.424183</td>\n",
              "      <td>-0.413851</td>\n",
              "      <td>0.036890</td>\n",
              "      <td>0.021979</td>\n",
              "      <td>0.034711</td>\n",
              "      <td>0.259770</td>\n",
              "      <td>0.233104</td>\n",
              "      <td>0.222920</td>\n",
              "      <td>-0.261860</td>\n",
              "    </tr>\n",
              "    <tr>\n",
              "      <th>SEX</th>\n",
              "      <td>0.010642</td>\n",
              "      <td>1.000000</td>\n",
              "      <td>-0.023954</td>\n",
              "      <td>0.010174</td>\n",
              "      <td>0.087388</td>\n",
              "      <td>0.087353</td>\n",
              "      <td>0.093021</td>\n",
              "      <td>0.086005</td>\n",
              "      <td>0.052517</td>\n",
              "      <td>0.050762</td>\n",
              "      <td>0.052258</td>\n",
              "      <td>-0.005103</td>\n",
              "      <td>0.003320</td>\n",
              "      <td>-0.000257</td>\n",
              "      <td>0.059065</td>\n",
              "    </tr>\n",
              "    <tr>\n",
              "      <th>EDUCATION</th>\n",
              "      <td>-0.236333</td>\n",
              "      <td>-0.023954</td>\n",
              "      <td>1.000000</td>\n",
              "      <td>-0.168062</td>\n",
              "      <td>0.162827</td>\n",
              "      <td>0.145533</td>\n",
              "      <td>0.147181</td>\n",
              "      <td>0.132466</td>\n",
              "      <td>0.010812</td>\n",
              "      <td>0.013294</td>\n",
              "      <td>0.006881</td>\n",
              "      <td>-0.060313</td>\n",
              "      <td>-0.056446</td>\n",
              "      <td>-0.063816</td>\n",
              "      <td>0.064805</td>\n",
              "    </tr>\n",
              "    <tr>\n",
              "      <th>MARRIAGE</th>\n",
              "      <td>-0.131825</td>\n",
              "      <td>0.010174</td>\n",
              "      <td>-0.168062</td>\n",
              "      <td>1.000000</td>\n",
              "      <td>-0.494477</td>\n",
              "      <td>0.050271</td>\n",
              "      <td>0.053409</td>\n",
              "      <td>0.051942</td>\n",
              "      <td>-0.007208</td>\n",
              "      <td>-0.009308</td>\n",
              "      <td>-0.005046</td>\n",
              "      <td>-0.028312</td>\n",
              "      <td>-0.002652</td>\n",
              "      <td>0.006984</td>\n",
              "      <td>-0.003642</td>\n",
              "    </tr>\n",
              "    <tr>\n",
              "      <th>AGE</th>\n",
              "      <td>0.198323</td>\n",
              "      <td>0.087388</td>\n",
              "      <td>0.162827</td>\n",
              "      <td>-0.494477</td>\n",
              "      <td>1.000000</td>\n",
              "      <td>-0.069136</td>\n",
              "      <td>-0.064611</td>\n",
              "      <td>-0.058987</td>\n",
              "      <td>0.009286</td>\n",
              "      <td>0.006619</td>\n",
              "      <td>0.012289</td>\n",
              "      <td>0.053369</td>\n",
              "      <td>0.062028</td>\n",
              "      <td>0.022568</td>\n",
              "      <td>0.008738</td>\n",
              "    </tr>\n",
              "    <tr>\n",
              "      <th>Pay1</th>\n",
              "      <td>-0.411370</td>\n",
              "      <td>0.087353</td>\n",
              "      <td>0.145533</td>\n",
              "      <td>0.050271</td>\n",
              "      <td>-0.069136</td>\n",
              "      <td>1.000000</td>\n",
              "      <td>0.920226</td>\n",
              "      <td>0.885168</td>\n",
              "      <td>0.405284</td>\n",
              "      <td>0.420700</td>\n",
              "      <td>0.401172</td>\n",
              "      <td>-0.141373</td>\n",
              "      <td>-0.130543</td>\n",
              "      <td>-0.111617</td>\n",
              "      <td>0.444308</td>\n",
              "    </tr>\n",
              "    <tr>\n",
              "      <th>Pay2</th>\n",
              "      <td>-0.424183</td>\n",
              "      <td>0.093021</td>\n",
              "      <td>0.147181</td>\n",
              "      <td>0.053409</td>\n",
              "      <td>-0.064611</td>\n",
              "      <td>0.920226</td>\n",
              "      <td>1.000000</td>\n",
              "      <td>0.923781</td>\n",
              "      <td>0.411986</td>\n",
              "      <td>0.422611</td>\n",
              "      <td>0.402254</td>\n",
              "      <td>-0.165855</td>\n",
              "      <td>-0.136958</td>\n",
              "      <td>-0.114623</td>\n",
              "      <td>0.450904</td>\n",
              "    </tr>\n",
              "    <tr>\n",
              "      <th>Pay3</th>\n",
              "      <td>-0.413851</td>\n",
              "      <td>0.086005</td>\n",
              "      <td>0.132466</td>\n",
              "      <td>0.051942</td>\n",
              "      <td>-0.058987</td>\n",
              "      <td>0.885168</td>\n",
              "      <td>0.923781</td>\n",
              "      <td>1.000000</td>\n",
              "      <td>0.407067</td>\n",
              "      <td>0.426123</td>\n",
              "      <td>0.400439</td>\n",
              "      <td>-0.136221</td>\n",
              "      <td>-0.155288</td>\n",
              "      <td>-0.112512</td>\n",
              "      <td>0.443165</td>\n",
              "    </tr>\n",
              "    <tr>\n",
              "      <th>Bill_amt1</th>\n",
              "      <td>0.036890</td>\n",
              "      <td>0.052517</td>\n",
              "      <td>0.010812</td>\n",
              "      <td>-0.007208</td>\n",
              "      <td>0.009286</td>\n",
              "      <td>0.405284</td>\n",
              "      <td>0.411986</td>\n",
              "      <td>0.407067</td>\n",
              "      <td>1.000000</td>\n",
              "      <td>0.937731</td>\n",
              "      <td>0.904676</td>\n",
              "      <td>0.118624</td>\n",
              "      <td>0.094135</td>\n",
              "      <td>0.108484</td>\n",
              "      <td>0.213260</td>\n",
              "    </tr>\n",
              "    <tr>\n",
              "      <th>Bill_amt2</th>\n",
              "      <td>0.021979</td>\n",
              "      <td>0.050762</td>\n",
              "      <td>0.013294</td>\n",
              "      <td>-0.009308</td>\n",
              "      <td>0.006619</td>\n",
              "      <td>0.420700</td>\n",
              "      <td>0.422611</td>\n",
              "      <td>0.426123</td>\n",
              "      <td>0.937731</td>\n",
              "      <td>1.000000</td>\n",
              "      <td>0.928205</td>\n",
              "      <td>0.255617</td>\n",
              "      <td>0.069803</td>\n",
              "      <td>0.096757</td>\n",
              "      <td>0.225632</td>\n",
              "    </tr>\n",
              "    <tr>\n",
              "      <th>Bill_amt3</th>\n",
              "      <td>0.034711</td>\n",
              "      <td>0.052258</td>\n",
              "      <td>0.006881</td>\n",
              "      <td>-0.005046</td>\n",
              "      <td>0.012289</td>\n",
              "      <td>0.401172</td>\n",
              "      <td>0.402254</td>\n",
              "      <td>0.400439</td>\n",
              "      <td>0.904676</td>\n",
              "      <td>0.928205</td>\n",
              "      <td>1.000000</td>\n",
              "      <td>0.134445</td>\n",
              "      <td>0.319997</td>\n",
              "      <td>0.069769</td>\n",
              "      <td>0.209749</td>\n",
              "    </tr>\n",
              "    <tr>\n",
              "      <th>Pay_amt1</th>\n",
              "      <td>0.259770</td>\n",
              "      <td>-0.005103</td>\n",
              "      <td>-0.060313</td>\n",
              "      <td>-0.028312</td>\n",
              "      <td>0.053369</td>\n",
              "      <td>-0.141373</td>\n",
              "      <td>-0.165855</td>\n",
              "      <td>-0.136221</td>\n",
              "      <td>0.118624</td>\n",
              "      <td>0.255617</td>\n",
              "      <td>0.134445</td>\n",
              "      <td>1.000000</td>\n",
              "      <td>0.310597</td>\n",
              "      <td>0.295173</td>\n",
              "      <td>-0.113446</td>\n",
              "    </tr>\n",
              "    <tr>\n",
              "      <th>Pay_amt2</th>\n",
              "      <td>0.233104</td>\n",
              "      <td>0.003320</td>\n",
              "      <td>-0.056446</td>\n",
              "      <td>-0.002652</td>\n",
              "      <td>0.062028</td>\n",
              "      <td>-0.130543</td>\n",
              "      <td>-0.136958</td>\n",
              "      <td>-0.155288</td>\n",
              "      <td>0.094135</td>\n",
              "      <td>0.069803</td>\n",
              "      <td>0.319997</td>\n",
              "      <td>0.310597</td>\n",
              "      <td>1.000000</td>\n",
              "      <td>0.250470</td>\n",
              "      <td>-0.109601</td>\n",
              "    </tr>\n",
              "    <tr>\n",
              "      <th>Pay_amt3</th>\n",
              "      <td>0.222920</td>\n",
              "      <td>-0.000257</td>\n",
              "      <td>-0.063816</td>\n",
              "      <td>0.006984</td>\n",
              "      <td>0.022568</td>\n",
              "      <td>-0.111617</td>\n",
              "      <td>-0.114623</td>\n",
              "      <td>-0.112512</td>\n",
              "      <td>0.108484</td>\n",
              "      <td>0.096757</td>\n",
              "      <td>0.069769</td>\n",
              "      <td>0.295173</td>\n",
              "      <td>0.250470</td>\n",
              "      <td>1.000000</td>\n",
              "      <td>-0.074950</td>\n",
              "    </tr>\n",
              "    <tr>\n",
              "      <th>default.payment.next.month</th>\n",
              "      <td>-0.261860</td>\n",
              "      <td>0.059065</td>\n",
              "      <td>0.064805</td>\n",
              "      <td>-0.003642</td>\n",
              "      <td>0.008738</td>\n",
              "      <td>0.444308</td>\n",
              "      <td>0.450904</td>\n",
              "      <td>0.443165</td>\n",
              "      <td>0.213260</td>\n",
              "      <td>0.225632</td>\n",
              "      <td>0.209749</td>\n",
              "      <td>-0.113446</td>\n",
              "      <td>-0.109601</td>\n",
              "      <td>-0.074950</td>\n",
              "      <td>1.000000</td>\n",
              "    </tr>\n",
              "  </tbody>\n",
              "</table>\n",
              "</div>"
            ],
            "text/plain": [
              "                            LIMIT_BAL       SEX  EDUCATION  MARRIAGE  \\\n",
              "LIMIT_BAL                    1.000000  0.010642  -0.236333 -0.131825   \n",
              "SEX                          0.010642  1.000000  -0.023954  0.010174   \n",
              "EDUCATION                   -0.236333 -0.023954   1.000000 -0.168062   \n",
              "MARRIAGE                    -0.131825  0.010174  -0.168062  1.000000   \n",
              "AGE                          0.198323  0.087388   0.162827 -0.494477   \n",
              "Pay1                        -0.411370  0.087353   0.145533  0.050271   \n",
              "Pay2                        -0.424183  0.093021   0.147181  0.053409   \n",
              "Pay3                        -0.413851  0.086005   0.132466  0.051942   \n",
              "Bill_amt1                    0.036890  0.052517   0.010812 -0.007208   \n",
              "Bill_amt2                    0.021979  0.050762   0.013294 -0.009308   \n",
              "Bill_amt3                    0.034711  0.052258   0.006881 -0.005046   \n",
              "Pay_amt1                     0.259770 -0.005103  -0.060313 -0.028312   \n",
              "Pay_amt2                     0.233104  0.003320  -0.056446 -0.002652   \n",
              "Pay_amt3                     0.222920 -0.000257  -0.063816  0.006984   \n",
              "default.payment.next.month  -0.261860  0.059065   0.064805 -0.003642   \n",
              "\n",
              "                                 AGE      Pay1      Pay2      Pay3  Bill_amt1  \\\n",
              "LIMIT_BAL                   0.198323 -0.411370 -0.424183 -0.413851   0.036890   \n",
              "SEX                         0.087388  0.087353  0.093021  0.086005   0.052517   \n",
              "EDUCATION                   0.162827  0.145533  0.147181  0.132466   0.010812   \n",
              "MARRIAGE                   -0.494477  0.050271  0.053409  0.051942  -0.007208   \n",
              "AGE                         1.000000 -0.069136 -0.064611 -0.058987   0.009286   \n",
              "Pay1                       -0.069136  1.000000  0.920226  0.885168   0.405284   \n",
              "Pay2                       -0.064611  0.920226  1.000000  0.923781   0.411986   \n",
              "Pay3                       -0.058987  0.885168  0.923781  1.000000   0.407067   \n",
              "Bill_amt1                   0.009286  0.405284  0.411986  0.407067   1.000000   \n",
              "Bill_amt2                   0.006619  0.420700  0.422611  0.426123   0.937731   \n",
              "Bill_amt3                   0.012289  0.401172  0.402254  0.400439   0.904676   \n",
              "Pay_amt1                    0.053369 -0.141373 -0.165855 -0.136221   0.118624   \n",
              "Pay_amt2                    0.062028 -0.130543 -0.136958 -0.155288   0.094135   \n",
              "Pay_amt3                    0.022568 -0.111617 -0.114623 -0.112512   0.108484   \n",
              "default.payment.next.month  0.008738  0.444308  0.450904  0.443165   0.213260   \n",
              "\n",
              "                            Bill_amt2  Bill_amt3  Pay_amt1  Pay_amt2  \\\n",
              "LIMIT_BAL                    0.021979   0.034711  0.259770  0.233104   \n",
              "SEX                          0.050762   0.052258 -0.005103  0.003320   \n",
              "EDUCATION                    0.013294   0.006881 -0.060313 -0.056446   \n",
              "MARRIAGE                    -0.009308  -0.005046 -0.028312 -0.002652   \n",
              "AGE                          0.006619   0.012289  0.053369  0.062028   \n",
              "Pay1                         0.420700   0.401172 -0.141373 -0.130543   \n",
              "Pay2                         0.422611   0.402254 -0.165855 -0.136958   \n",
              "Pay3                         0.426123   0.400439 -0.136221 -0.155288   \n",
              "Bill_amt1                    0.937731   0.904676  0.118624  0.094135   \n",
              "Bill_amt2                    1.000000   0.928205  0.255617  0.069803   \n",
              "Bill_amt3                    0.928205   1.000000  0.134445  0.319997   \n",
              "Pay_amt1                     0.255617   0.134445  1.000000  0.310597   \n",
              "Pay_amt2                     0.069803   0.319997  0.310597  1.000000   \n",
              "Pay_amt3                     0.096757   0.069769  0.295173  0.250470   \n",
              "default.payment.next.month   0.225632   0.209749 -0.113446 -0.109601   \n",
              "\n",
              "                            Pay_amt3  default.payment.next.month  \n",
              "LIMIT_BAL                   0.222920                   -0.261860  \n",
              "SEX                        -0.000257                    0.059065  \n",
              "EDUCATION                  -0.063816                    0.064805  \n",
              "MARRIAGE                    0.006984                   -0.003642  \n",
              "AGE                         0.022568                    0.008738  \n",
              "Pay1                       -0.111617                    0.444308  \n",
              "Pay2                       -0.114623                    0.450904  \n",
              "Pay3                       -0.112512                    0.443165  \n",
              "Bill_amt1                   0.108484                    0.213260  \n",
              "Bill_amt2                   0.096757                    0.225632  \n",
              "Bill_amt3                   0.069769                    0.209749  \n",
              "Pay_amt1                    0.295173                   -0.113446  \n",
              "Pay_amt2                    0.250470                   -0.109601  \n",
              "Pay_amt3                    1.000000                   -0.074950  \n",
              "default.payment.next.month -0.074950                    1.000000  "
            ]
          },
          "metadata": {
            "tags": []
          },
          "execution_count": 315
        }
      ]
    },
    {
      "cell_type": "code",
      "metadata": {
        "id": "wwBOFuDatkUc",
        "outputId": "9b7b16ff-0cbf-4fd7-cdf8-22393acdf8f4"
      },
      "source": [
        "f, ax = plt.subplots(figsize=(11, 9))\n",
        "\n",
        "cmap = sns.diverging_palette(230, 20, as_cmap=True)\n",
        "sns.heatmap(df.corr(), cmap=cmap, vmax=1, center=0, square=True, linewidths=.5, cbar_kws={\"shrink\": .5})"
      ],
      "execution_count": null,
      "outputs": [
        {
          "output_type": "execute_result",
          "data": {
            "text/plain": [
              "<matplotlib.axes._subplots.AxesSubplot at 0x246d6a056a0>"
            ]
          },
          "metadata": {
            "tags": []
          },
          "execution_count": 316
        },
        {
          "output_type": "display_data",
          "data": {
            "image/png": "[encoded data removed]",
            "text/plain": [
              "<Figure size 792x648 with 2 Axes>"
            ]
          },
          "metadata": {
            "tags": [],
            "needs_background": "light"
          }
        }
      ]
    },
    {
      "cell_type": "code",
      "metadata": {
        "id": "ahpZU5SntkUc",
        "outputId": "8413d207-cc95-4ac1-9ec1-afa2df92e75a"
      },
      "source": [
        "for i in df.corr().columns:\n",
        "    for j in range(len(df.corr().columns)):\n",
        "        if abs(abs(df.corr().iloc[j][i])) > 0.9 and df.corr().iloc[j][i] != 1:\n",
        "            print(df.corr().iloc[j][i], \"- корреляция\", df.corr().columns[j], i, \"- сильно зависимые данные\")"
      ],
      "execution_count": null,
      "outputs": [
        {
          "output_type": "stream",
          "text": [
            "0.920226169152885 - корреляция Pay2 Pay1 - сильно зависимые данные\n",
            "0.920226169152885 - корреляция Pay1 Pay2 - сильно зависимые данные\n",
            "0.9237805040971502 - корреляция Pay3 Pay2 - сильно зависимые данные\n",
            "0.9237805040971502 - корреляция Pay2 Pay3 - сильно зависимые данные\n",
            "0.9377309710392575 - корреляция Bill_amt2 Bill_amt1 - сильно зависимые данные\n",
            "0.9046764920204556 - корреляция Bill_amt3 Bill_amt1 - сильно зависимые данные\n",
            "0.9377309710392575 - корреляция Bill_amt1 Bill_amt2 - сильно зависимые данные\n",
            "0.9282050130861003 - корреляция Bill_amt3 Bill_amt2 - сильно зависимые данные\n",
            "0.9046764920204556 - корреляция Bill_amt1 Bill_amt3 - сильно зависимые данные\n",
            "0.9282050130861003 - корреляция Bill_amt2 Bill_amt3 - сильно зависимые данные\n"
          ],
          "name": "stdout"
        }
      ]
    },
    {
      "cell_type": "markdown",
      "metadata": {
        "id": "KQ-wEpdLtkUc"
      },
      "source": [
        "Исходя из этих данных мы можем принять решение об удалении одного поля (Bill_amt2, Bill_amt3, Pay2) и оставить только один признак Bill_amt1, поскольку данные сильно кореллируют между собой и для отсутствия ошибки переобучения модели их нужно убрать из нашего датасета."
      ]
    },
    {
      "cell_type": "code",
      "metadata": {
        "id": "9jZvzgYptkUc",
        "outputId": "6e803c73-f203-4ddf-955c-c83504ef2c21"
      },
      "source": [
        "df.drop(columns=[\"Bill_amt2\", \"Bill_amt3\", \"Pay2\"], inplace=True)\n",
        "df.shape"
      ],
      "execution_count": null,
      "outputs": [
        {
          "output_type": "execute_result",
          "data": {
            "text/plain": [
              "(5320, 12)"
            ]
          },
          "metadata": {
            "tags": []
          },
          "execution_count": 318
        }
      ]
    },
    {
      "cell_type": "code",
      "metadata": {
        "id": "7OC11aPNtkUc",
        "outputId": "501e01de-824a-48b6-b423-25ccd05dc02e"
      },
      "source": [
        "df.corr()[\"default.payment.next.month\"]"
      ],
      "execution_count": null,
      "outputs": [
        {
          "output_type": "execute_result",
          "data": {
            "text/plain": [
              "LIMIT_BAL                    -0.261860\n",
              "SEX                           0.059065\n",
              "EDUCATION                     0.064805\n",
              "MARRIAGE                     -0.003642\n",
              "AGE                           0.008738\n",
              "Pay1                          0.444308\n",
              "Pay3                          0.443165\n",
              "Bill_amt1                     0.213260\n",
              "Pay_amt1                     -0.113446\n",
              "Pay_amt2                     -0.109601\n",
              "Pay_amt3                     -0.074950\n",
              "default.payment.next.month    1.000000\n",
              "Name: default.payment.next.month, dtype: float64"
            ]
          },
          "metadata": {
            "tags": []
          },
          "execution_count": 319
        }
      ]
    },
    {
      "cell_type": "markdown",
      "metadata": {
        "id": "IDzraKoitkUd"
      },
      "source": [
        "### Построение распределений признаков, выявление аномалий и их устранение"
      ]
    },
    {
      "cell_type": "code",
      "metadata": {
        "id": "DZD8ufeVtkUd",
        "outputId": "d3fae5c6-ab51-4a76-c787-9b8dd6740303"
      },
      "source": [
        "plt.figure(figsize=(12, 3))\n",
        "# Вывод графиков\n",
        "plt.subplot(1, 2, 1)\n",
        "sns.distplot(df.LIMIT_BAL, kde=True,bins=200, color=\"blue\")\n",
        "plt.subplot(1, 2, 2)\n",
        "df.SEX.hist()"
      ],
      "execution_count": null,
      "outputs": [
        {
          "output_type": "execute_result",
          "data": {
            "text/plain": [
              "<matplotlib.axes._subplots.AxesSubplot at 0x246d6a16eb8>"
            ]
          },
          "metadata": {
            "tags": []
          },
          "execution_count": 320
        },
        {
          "output_type": "display_data",
          "data": {
            "image/png": "[encoded data removed]",
            "text/plain": [
              "<Figure size 864x216 with 2 Axes>"
            ]
          },
          "metadata": {
            "tags": [],
            "needs_background": "light"
          }
        }
      ]
    },
    {
      "cell_type": "markdown",
      "metadata": {
        "id": "yTIPDW1ttkUd"
      },
      "source": [
        "На графике признака LIMIT_BAL мы видим, что основной размер кредита в выборке не выходит за 600 000 тайваньский долларов. Значения после отметки в 600 000 являются нечастыми выбросами.    \n",
        "\n",
        "Удалим аномальные наблюдения из нашей выборки"
      ]
    },
    {
      "cell_type": "code",
      "metadata": {
        "id": "wkNodDX1tkUe",
        "outputId": "af57c2a2-1c33-496a-aa11-adedd89f0016"
      },
      "source": [
        "df.drop(df[df.LIMIT_BAL > 600000].index, inplace=True)\n",
        "df.shape"
      ],
      "execution_count": null,
      "outputs": [
        {
          "output_type": "execute_result",
          "data": {
            "text/plain": [
              "(5313, 12)"
            ]
          },
          "metadata": {
            "tags": []
          },
          "execution_count": 321
        }
      ]
    },
    {
      "cell_type": "code",
      "metadata": {
        "id": "1j_AS46GtkUe",
        "outputId": "27e80055-bf3e-4b30-bea0-976b5d3c352a"
      },
      "source": [
        "plt.figure(figsize=(12, 3))\n",
        "plt.subplot(1, 2, 1)\n",
        "df.EDUCATION.hist()\n",
        "plt.subplot(1, 2, 2)\n",
        "df.MARRIAGE.hist()"
      ],
      "execution_count": null,
      "outputs": [
        {
          "output_type": "execute_result",
          "data": {
            "text/plain": [
              "<matplotlib.axes._subplots.AxesSubplot at 0x246d6f5b7f0>"
            ]
          },
          "metadata": {
            "tags": []
          },
          "execution_count": 322
        },
        {
          "output_type": "display_data",
          "data": {
            "image/png": "[encoded data removed]",
            "text/plain": [
              "<Figure size 864x216 with 2 Axes>"
            ]
          },
          "metadata": {
            "tags": [],
            "needs_background": "light"
          }
        }
      ]
    },
    {
      "cell_type": "markdown",
      "metadata": {
        "id": "2hGtrvVDtkUe"
      },
      "source": [
        "Поскольку 5-6 принимает смысл «неизвестно», такое могло случиться при ошибке ввода данных, поэтому стоит удалить эти значения. 1 в столбце брачный статус означает другое, что странно, тоже удаляем."
      ]
    },
    {
      "cell_type": "code",
      "metadata": {
        "id": "61tQkzXItkUe",
        "outputId": "f176022a-1385-4bd4-9595-28f1c9b7ed19"
      },
      "source": [
        "df.drop(df[df.EDUCATION > 4].index, inplace = True)\n",
        "df.drop(df[df.MARRIAGE == 1].index, inplace = True)\n",
        "df.shape"
      ],
      "execution_count": null,
      "outputs": [
        {
          "output_type": "execute_result",
          "data": {
            "text/plain": [
              "(5241, 12)"
            ]
          },
          "metadata": {
            "tags": []
          },
          "execution_count": 323
        }
      ]
    },
    {
      "cell_type": "code",
      "metadata": {
        "id": "8D0D_SEMtkUe",
        "outputId": "0bb56594-6285-4f2e-fe30-c7df757bd8d2"
      },
      "source": [
        "plt.figure(figsize=(12, 3))\n",
        "plt.subplot(1, 2, 1)\n",
        "sns.distplot(df.AGE, kde=True,bins=200, color=\"blue\")\n",
        "plt.subplot(1, 2, 2)\n",
        "df.Pay1.hist()"
      ],
      "execution_count": null,
      "outputs": [
        {
          "output_type": "execute_result",
          "data": {
            "text/plain": [
              "<matplotlib.axes._subplots.AxesSubplot at 0x246d3849e48>"
            ]
          },
          "metadata": {
            "tags": []
          },
          "execution_count": 324
        },
        {
          "output_type": "display_data",
          "data": {
            "image/png": "[encoded data removed]",
            "text/plain": [
              "<Figure size 864x216 with 2 Axes>"
            ]
          },
          "metadata": {
            "tags": [],
            "needs_background": "light"
          }
        }
      ]
    },
    {
      "cell_type": "markdown",
      "metadata": {
        "id": "XEEs6HhOtkUe"
      },
      "source": [
        "На графике распределения признака AGE мы наблюдаем основное значение в пределах 70 лет.   \n",
        "На графиках Pay1-3 сильных отклонений нет, значения реальны"
      ]
    },
    {
      "cell_type": "code",
      "metadata": {
        "scrolled": false,
        "id": "WHPSo6mStkUf",
        "outputId": "13e66e50-bbeb-4f78-b34a-06537bbbcf9c"
      },
      "source": [
        "plt.figure(figsize=(12, 3))\n",
        "df.Pay3.hist()"
      ],
      "execution_count": null,
      "outputs": [
        {
          "output_type": "execute_result",
          "data": {
            "text/plain": [
              "<matplotlib.axes._subplots.AxesSubplot at 0x246d70d8e10>"
            ]
          },
          "metadata": {
            "tags": []
          },
          "execution_count": 325
        },
        {
          "output_type": "display_data",
          "data": {
            "image/png": "[encoded data removed]",
            "text/plain": [
              "<Figure size 864x216 with 1 Axes>"
            ]
          },
          "metadata": {
            "tags": [],
            "needs_background": "light"
          }
        }
      ]
    },
    {
      "cell_type": "code",
      "metadata": {
        "scrolled": false,
        "id": "X4zd0lYGtkUf",
        "outputId": "f09a2039-87f2-4f84-f4b9-5fba11eb8ac3"
      },
      "source": [
        "plt.figure(figsize=(15, 5))\n",
        "sns.distplot(df.Bill_amt1, kde=True,bins=200, color=\"blue\")"
      ],
      "execution_count": null,
      "outputs": [
        {
          "output_type": "execute_result",
          "data": {
            "text/plain": [
              "<matplotlib.axes._subplots.AxesSubplot at 0x246d73487f0>"
            ]
          },
          "metadata": {
            "tags": []
          },
          "execution_count": 326
        },
        {
          "output_type": "display_data",
          "data": {
            "image/png": "[encoded data removed]",
            "text/plain": [
              "<Figure size 1080x360 with 1 Axes>"
            ]
          },
          "metadata": {
            "tags": [],
            "needs_background": "light"
          }
        }
      ]
    },
    {
      "cell_type": "markdown",
      "metadata": {
        "id": "2ksAWxpvtkUf"
      },
      "source": [
        "Видно, что основная часть значений находится в диапозоне до 250 000, остальные значения являются нечастыми появлениями."
      ]
    },
    {
      "cell_type": "code",
      "metadata": {
        "id": "mTsT7LCytkUf",
        "outputId": "8142a83e-defc-4197-9409-d34fbf1d492b"
      },
      "source": [
        "df.drop(df[df.Bill_amt1 > 250000].index, inplace=True)\n",
        "df.shape"
      ],
      "execution_count": null,
      "outputs": [
        {
          "output_type": "execute_result",
          "data": {
            "text/plain": [
              "(5211, 12)"
            ]
          },
          "metadata": {
            "tags": []
          },
          "execution_count": 327
        }
      ]
    },
    {
      "cell_type": "code",
      "metadata": {
        "scrolled": false,
        "id": "9w0DM4S7tkUf",
        "outputId": "a85c5f40-1562-42d5-b949-a7ca716c734e"
      },
      "source": [
        "plt.figure(figsize=(15, 5))\n",
        "sns.distplot(df.Pay_amt1, kde=True,bins=200, color=\"blue\")"
      ],
      "execution_count": null,
      "outputs": [
        {
          "output_type": "execute_result",
          "data": {
            "text/plain": [
              "<matplotlib.axes._subplots.AxesSubplot at 0x246d7407eb8>"
            ]
          },
          "metadata": {
            "tags": []
          },
          "execution_count": 328
        },
        {
          "output_type": "display_data",
          "data": {
            "image/png": "[encoded data removed]",
            "text/plain": [
              "<Figure size 1080x360 with 1 Axes>"
            ]
          },
          "metadata": {
            "tags": [],
            "needs_background": "light"
          }
        }
      ]
    },
    {
      "cell_type": "markdown",
      "metadata": {
        "id": "rJqzSLlatkUf"
      },
      "source": [
        "Основая часть приходится на значения до 50 000"
      ]
    },
    {
      "cell_type": "code",
      "metadata": {
        "id": "6qB3QJi-tkUf",
        "outputId": "8f8ffa53-9522-4cbf-e591-dc847b3260cf"
      },
      "source": [
        "df.drop(df[df.Pay_amt1 > 50000].index, inplace=True)\n",
        "df.shape"
      ],
      "execution_count": null,
      "outputs": [
        {
          "output_type": "execute_result",
          "data": {
            "text/plain": [
              "(5141, 12)"
            ]
          },
          "metadata": {
            "tags": []
          },
          "execution_count": 329
        }
      ]
    },
    {
      "cell_type": "code",
      "metadata": {
        "id": "ER12pwTDtkUg",
        "outputId": "57d4ccde-92b7-4459-e42e-0ca91b99ba64"
      },
      "source": [
        "plt.figure(figsize=(15, 5))\n",
        "sns.distplot(df.Pay_amt2, kde=True,bins=200, color=\"blue\")"
      ],
      "execution_count": null,
      "outputs": [
        {
          "output_type": "execute_result",
          "data": {
            "text/plain": [
              "<matplotlib.axes._subplots.AxesSubplot at 0x246d75ed828>"
            ]
          },
          "metadata": {
            "tags": []
          },
          "execution_count": 330
        },
        {
          "output_type": "display_data",
          "data": {
            "image/png": "[encoded data removed]",
            "text/plain": [
              "<Figure size 1080x360 with 1 Axes>"
            ]
          },
          "metadata": {
            "tags": [],
            "needs_background": "light"
          }
        }
      ]
    },
    {
      "cell_type": "markdown",
      "metadata": {
        "id": "FGYJc-8CtkUg"
      },
      "source": [
        "Основная часть до 50000."
      ]
    },
    {
      "cell_type": "code",
      "metadata": {
        "id": "H0fCHO9otkUg",
        "outputId": "5d50adcf-94e4-4f11-9d5f-63868e293112"
      },
      "source": [
        "df.drop(df[df.Pay_amt2 > 50000].index, inplace=True)\n",
        "df.shape"
      ],
      "execution_count": null,
      "outputs": [
        {
          "output_type": "execute_result",
          "data": {
            "text/plain": [
              "(5086, 12)"
            ]
          },
          "metadata": {
            "tags": []
          },
          "execution_count": 331
        }
      ]
    },
    {
      "cell_type": "code",
      "metadata": {
        "id": "YzuZOz-7tkUg",
        "outputId": "bfd507f4-b4b6-4a41-fc24-95c33876f1c4"
      },
      "source": [
        "plt.figure(figsize=(15, 5))\n",
        "sns.distplot(df.Pay_amt3, kde=True,bins=200, color=\"blue\")"
      ],
      "execution_count": null,
      "outputs": [
        {
          "output_type": "execute_result",
          "data": {
            "text/plain": [
              "<matplotlib.axes._subplots.AxesSubplot at 0x246d791be10>"
            ]
          },
          "metadata": {
            "tags": []
          },
          "execution_count": 332
        },
        {
          "output_type": "display_data",
          "data": {
            "image/png": "[encoded data removed]",
            "text/plain": [
              "<Figure size 1080x360 with 1 Axes>"
            ]
          },
          "metadata": {
            "tags": [],
            "needs_background": "light"
          }
        }
      ]
    },
    {
      "cell_type": "markdown",
      "metadata": {
        "id": "8auguoaZtkUg"
      },
      "source": [
        "Основная масса значений сосредоточнеа до 50000"
      ]
    },
    {
      "cell_type": "code",
      "metadata": {
        "id": "I754tv80tkUg",
        "outputId": "56778137-6031-48a5-97ac-2d41b8a837ac"
      },
      "source": [
        "df.drop(df[df.Pay_amt3 > 50000].index, inplace=True)\n",
        "df.shape"
      ],
      "execution_count": null,
      "outputs": [
        {
          "output_type": "execute_result",
          "data": {
            "text/plain": [
              "(5035, 12)"
            ]
          },
          "metadata": {
            "tags": []
          },
          "execution_count": 333
        }
      ]
    },
    {
      "cell_type": "markdown",
      "metadata": {
        "id": "NmzWas7otkUg"
      },
      "source": [
        "### Расбалансировка целевой переменной"
      ]
    },
    {
      "cell_type": "code",
      "metadata": {
        "scrolled": true,
        "id": "mmiOJNq-tkUg",
        "outputId": "daf33286-4caf-4ad1-d10a-9ec872512dca"
      },
      "source": [
        "temp = df['default.payment.next.month'].value_counts()\n",
        "sns.barplot(data=df, x=temp.index, y=temp.values)"
      ],
      "execution_count": null,
      "outputs": [
        {
          "output_type": "execute_result",
          "data": {
            "text/plain": [
              "<matplotlib.axes._subplots.AxesSubplot at 0x246d7ca29b0>"
            ]
          },
          "metadata": {
            "tags": []
          },
          "execution_count": 334
        },
        {
          "output_type": "display_data",
          "data": {
            "image/png": "[encoded data removed]",
            "text/plain": [
              "<Figure size 432x288 with 1 Axes>"
            ]
          },
          "metadata": {
            "tags": [],
            "needs_background": "light"
          }
        }
      ]
    },
    {
      "cell_type": "markdown",
      "metadata": {
        "id": "wVOQcnw2tkUh"
      },
      "source": [
        "### Нормализация данных    \n",
        "Поскольку признаки имеют очень заметный дисбаланс в значениях, для улучшения модели мы должны нормализовать данные."
      ]
    },
    {
      "cell_type": "code",
      "metadata": {
        "id": "ef-UmnKYtkUh"
      },
      "source": [
        "X = df.drop(columns=['default.payment.next.month'])\n",
        "Y = df['default.payment.next.month']"
      ],
      "execution_count": null,
      "outputs": []
    },
    {
      "cell_type": "markdown",
      "metadata": {
        "id": "yfPreMO3tkUh"
      },
      "source": [
        "Разделим выборку на экзогенные и эндогенные переменные"
      ]
    },
    {
      "cell_type": "code",
      "metadata": {
        "id": "nQ6Ker2HtkUh",
        "outputId": "e239bc4d-0cd2-44bc-ddd9-1d511598550f"
      },
      "source": [
        "X.describe().loc['mean']"
      ],
      "execution_count": null,
      "outputs": [
        {
          "output_type": "execute_result",
          "data": {
            "text/plain": [
              "LIMIT_BAL    164154.915591\n",
              "SEX               0.398610\n",
              "EDUCATION         1.759484\n",
              "MARRIAGE          0.980338\n",
              "AGE              36.119364\n",
              "Pay1              0.261172\n",
              "Pay3              0.248262\n",
              "Bill_amt1     20116.188083\n",
              "Pay_amt1       3555.347964\n",
              "Pay_amt2       3480.403575\n",
              "Pay_amt3       3045.262363\n",
              "Name: mean, dtype: float64"
            ]
          },
          "metadata": {
            "tags": []
          },
          "execution_count": 336
        }
      ]
    },
    {
      "cell_type": "markdown",
      "metadata": {
        "id": "wgjP77_OtkUh"
      },
      "source": [
        "По значению \"mean\" таблицы сверху можно понять, что некоторые признаки имеют сильный дисбаланс значений. Это может привести к ухудшению модели и осложенинию ее обучения. Для этого нам стоит нормализовать наши признаки. Для нормализации я буду использовать метод минимакс, которое происходит по формуле:   \n",
        "# <center> $ \\frac{X - X_{min}}{X_{max} - X_{min}} $ <center/>"
      ]
    },
    {
      "cell_type": "code",
      "metadata": {
        "id": "HqevduQvtkUh"
      },
      "source": [
        "for i in X:\n",
        "    X[i] = (X[i] - X[i].min()) / (X[i].max() - X[i].min())"
      ],
      "execution_count": null,
      "outputs": []
    },
    {
      "cell_type": "code",
      "metadata": {
        "scrolled": false,
        "id": "K2359IW1tkUh",
        "outputId": "07b35b85-3b50-4640-f937-6ae3cc4d4dae"
      },
      "source": [
        "X.describe().loc[\"mean\"]"
      ],
      "execution_count": null,
      "outputs": [
        {
          "output_type": "execute_result",
          "data": {
            "text/plain": [
              "LIMIT_BAL    0.261280\n",
              "SEX          0.398610\n",
              "EDUCATION    0.253161\n",
              "MARRIAGE     0.490169\n",
              "AGE          0.279988\n",
              "Pay1         0.140130\n",
              "Pay3         0.138696\n",
              "Bill_amt1    0.096495\n",
              "Pay_amt1     0.071107\n",
              "Pay_amt2     0.069608\n",
              "Pay_amt3     0.060905\n",
              "Name: mean, dtype: float64"
            ]
          },
          "metadata": {
            "tags": []
          },
          "execution_count": 338
        }
      ]
    },
    {
      "cell_type": "markdown",
      "metadata": {
        "id": "t2SxsxIvtkUh"
      },
      "source": [
        "Наши признаки нормализованы."
      ]
    },
    {
      "cell_type": "code",
      "metadata": {
        "id": "9JFQOj5-tkUh",
        "outputId": "9c272b36-b806-4d41-c4d4-c5307014b95b"
      },
      "source": [
        "X.head()"
      ],
      "execution_count": null,
      "outputs": [
        {
          "output_type": "execute_result",
          "data": {
            "text/html": [
              "<div>\n",
              "<style scoped>\n",
              "    .dataframe tbody tr th:only-of-type {\n",
              "        vertical-align: middle;\n",
              "    }\n",
              "\n",
              "    .dataframe tbody tr th {\n",
              "        vertical-align: top;\n",
              "    }\n",
              "\n",
              "    .dataframe thead th {\n",
              "        text-align: right;\n",
              "    }\n",
              "</style>\n",
              "<table border=\"1\" class=\"dataframe\">\n",
              "  <thead>\n",
              "    <tr style=\"text-align: right;\">\n",
              "      <th></th>\n",
              "      <th>LIMIT_BAL</th>\n",
              "      <th>SEX</th>\n",
              "      <th>EDUCATION</th>\n",
              "      <th>MARRIAGE</th>\n",
              "      <th>AGE</th>\n",
              "      <th>Pay1</th>\n",
              "      <th>Pay3</th>\n",
              "      <th>Bill_amt1</th>\n",
              "      <th>Pay_amt1</th>\n",
              "      <th>Pay_amt2</th>\n",
              "      <th>Pay_amt3</th>\n",
              "    </tr>\n",
              "  </thead>\n",
              "  <tbody>\n",
              "    <tr>\n",
              "      <th>0</th>\n",
              "      <td>0.423729</td>\n",
              "      <td>0.0</td>\n",
              "      <td>0.000000</td>\n",
              "      <td>1.0</td>\n",
              "      <td>0.555556</td>\n",
              "      <td>0.000000</td>\n",
              "      <td>0.333333</td>\n",
              "      <td>0.049896</td>\n",
              "      <td>0.44602</td>\n",
              "      <td>0.00000</td>\n",
              "      <td>0.0728</td>\n",
              "    </tr>\n",
              "    <tr>\n",
              "      <th>2</th>\n",
              "      <td>0.016949</td>\n",
              "      <td>1.0</td>\n",
              "      <td>0.000000</td>\n",
              "      <td>1.0</td>\n",
              "      <td>0.055556</td>\n",
              "      <td>0.333333</td>\n",
              "      <td>0.333333</td>\n",
              "      <td>0.089351</td>\n",
              "      <td>0.00000</td>\n",
              "      <td>0.03300</td>\n",
              "      <td>0.0000</td>\n",
              "    </tr>\n",
              "    <tr>\n",
              "      <th>4</th>\n",
              "      <td>0.186441</td>\n",
              "      <td>0.0</td>\n",
              "      <td>0.333333</td>\n",
              "      <td>0.0</td>\n",
              "      <td>0.333333</td>\n",
              "      <td>0.000000</td>\n",
              "      <td>0.000000</td>\n",
              "      <td>0.015680</td>\n",
              "      <td>0.01264</td>\n",
              "      <td>0.00632</td>\n",
              "      <td>0.0000</td>\n",
              "    </tr>\n",
              "    <tr>\n",
              "      <th>5</th>\n",
              "      <td>0.101695</td>\n",
              "      <td>0.0</td>\n",
              "      <td>0.333333</td>\n",
              "      <td>1.0</td>\n",
              "      <td>0.092593</td>\n",
              "      <td>0.333333</td>\n",
              "      <td>0.333333</td>\n",
              "      <td>0.192470</td>\n",
              "      <td>0.07202</td>\n",
              "      <td>0.00000</td>\n",
              "      <td>0.0364</td>\n",
              "    </tr>\n",
              "    <tr>\n",
              "      <th>6</th>\n",
              "      <td>0.084746</td>\n",
              "      <td>1.0</td>\n",
              "      <td>0.000000</td>\n",
              "      <td>1.0</td>\n",
              "      <td>0.111111</td>\n",
              "      <td>0.000000</td>\n",
              "      <td>0.000000</td>\n",
              "      <td>0.015451</td>\n",
              "      <td>0.01000</td>\n",
              "      <td>0.00000</td>\n",
              "      <td>0.0200</td>\n",
              "    </tr>\n",
              "  </tbody>\n",
              "</table>\n",
              "</div>"
            ],
            "text/plain": [
              "   LIMIT_BAL  SEX  EDUCATION  MARRIAGE       AGE      Pay1      Pay3  \\\n",
              "0   0.423729  0.0   0.000000       1.0  0.555556  0.000000  0.333333   \n",
              "2   0.016949  1.0   0.000000       1.0  0.055556  0.333333  0.333333   \n",
              "4   0.186441  0.0   0.333333       0.0  0.333333  0.000000  0.000000   \n",
              "5   0.101695  0.0   0.333333       1.0  0.092593  0.333333  0.333333   \n",
              "6   0.084746  1.0   0.000000       1.0  0.111111  0.000000  0.000000   \n",
              "\n",
              "   Bill_amt1  Pay_amt1  Pay_amt2  Pay_amt3  \n",
              "0   0.049896   0.44602   0.00000    0.0728  \n",
              "2   0.089351   0.00000   0.03300    0.0000  \n",
              "4   0.015680   0.01264   0.00632    0.0000  \n",
              "5   0.192470   0.07202   0.00000    0.0364  \n",
              "6   0.015451   0.01000   0.00000    0.0200  "
            ]
          },
          "metadata": {
            "tags": []
          },
          "execution_count": 339
        }
      ]
    },
    {
      "cell_type": "markdown",
      "metadata": {
        "id": "-WEdWB5MtkUi"
      },
      "source": [
        "### Разбиение выборки на обучающую и тестовую"
      ]
    },
    {
      "cell_type": "code",
      "metadata": {
        "id": "fMgpwETbtkUi"
      },
      "source": [
        "from sklearn.model_selection import train_test_split"
      ],
      "execution_count": null,
      "outputs": []
    },
    {
      "cell_type": "code",
      "metadata": {
        "id": "D8b480GStkUi"
      },
      "source": [
        "x_train, x_test, y_train, y_test = train_test_split(X, Y, test_size=0.1, random_state=True)"
      ],
      "execution_count": null,
      "outputs": []
    },
    {
      "cell_type": "markdown",
      "metadata": {
        "id": "jlHw-XPltkUi"
      },
      "source": [
        "### Обучение модели, метрики качества\n",
        "#### Модель метрического классификитора на основе логистической регрессии."
      ]
    },
    {
      "cell_type": "markdown",
      "metadata": {
        "id": "prlDyAOBtkUi"
      },
      "source": [
        "Построим модель логистической регрессии"
      ]
    },
    {
      "cell_type": "code",
      "metadata": {
        "id": "o_Ui0dZetkUi"
      },
      "source": [
        "from sklearn.linear_model import LogisticRegression\n",
        "cls = LogisticRegression()"
      ],
      "execution_count": null,
      "outputs": []
    },
    {
      "cell_type": "markdown",
      "metadata": {
        "id": "p3Djk9LftkUi"
      },
      "source": [
        "Обучим классификатор"
      ]
    },
    {
      "cell_type": "code",
      "metadata": {
        "id": "JPOZQa3DtkUi",
        "outputId": "2aade1c0-69af-41e1-e4d2-66d7e30e3395"
      },
      "source": [
        "cls.fit(x_train, y_train)"
      ],
      "execution_count": null,
      "outputs": [
        {
          "output_type": "execute_result",
          "data": {
            "text/plain": [
              "LogisticRegression()"
            ]
          },
          "metadata": {
            "tags": []
          },
          "execution_count": 343
        }
      ]
    },
    {
      "cell_type": "markdown",
      "metadata": {
        "id": "VPxmlXvTtkUi"
      },
      "source": [
        "Предскажем значения на тестовой выборке"
      ]
    },
    {
      "cell_type": "code",
      "metadata": {
        "id": "ui1u5FFRtkUj"
      },
      "source": [
        "y_pred = cls.predict(x_test)"
      ],
      "execution_count": null,
      "outputs": []
    },
    {
      "cell_type": "markdown",
      "metadata": {
        "id": "oKuIt3HItkUj"
      },
      "source": [
        "Оценим эффективность модели"
      ]
    },
    {
      "cell_type": "code",
      "metadata": {
        "id": "15arcrL5tkUj",
        "outputId": "4a5c9fb4-f8d1-4616-b289-527898a8ae0a"
      },
      "source": [
        "from sklearn import metrics\n",
        "metrics.confusion_matrix(y_test, y_pred)"
      ],
      "execution_count": null,
      "outputs": [
        {
          "output_type": "execute_result",
          "data": {
            "text/plain": [
              "array([[278,  49],\n",
              "       [ 69, 108]], dtype=int64)"
            ]
          },
          "metadata": {
            "tags": []
          },
          "execution_count": 345
        }
      ]
    },
    {
      "cell_type": "code",
      "metadata": {
        "id": "Wd1FzLi5tkUj",
        "outputId": "e8664eb1-6e46-4425-bcad-86b46dcb9c6b"
      },
      "source": [
        "%matplotlib inline\n",
        "class_names = [0, 1]\n",
        "fig, ax = plt.subplots()\n",
        "ticks = np.arange(len(class_names))\n",
        "plt.xticks(ticks, class_names)\n",
        "plt.yticks(ticks, class_names)\n",
        "sns.heatmap(pd.DataFrame(\n",
        "metrics.confusion_matrix(y_test, y_pred)), annot=True)\n",
        "plt.ylabel('Действительные значения')\n",
        "plt.xlabel('Предсказанные значения')"
      ],
      "execution_count": null,
      "outputs": [
        {
          "output_type": "execute_result",
          "data": {
            "text/plain": [
              "Text(0.5,15,'Предсказанные значения')"
            ]
          },
          "metadata": {
            "tags": []
          },
          "execution_count": 346
        },
        {
          "output_type": "display_data",
          "data": {
            "image/png": "[encoded data removed]",
            "text/plain": [
              "<Figure size 432x288 with 2 Axes>"
            ]
          },
          "metadata": {
            "tags": [],
            "needs_background": "light"
          }
        }
      ]
    },
    {
      "cell_type": "code",
      "metadata": {
        "id": "Gg2lQprFtkUj",
        "outputId": "80bfc44e-7b44-4c0c-9c85-a8b8ad2a5442"
      },
      "source": [
        "metrics.accuracy_score(y_test, y_pred)"
      ],
      "execution_count": null,
      "outputs": [
        {
          "output_type": "execute_result",
          "data": {
            "text/plain": [
              "0.7658730158730159"
            ]
          },
          "metadata": {
            "tags": []
          },
          "execution_count": 347
        }
      ]
    },
    {
      "cell_type": "code",
      "metadata": {
        "id": "KnVxumxhtkUj",
        "outputId": "c071a143-1a1a-4ea7-8231-8eb8c9294be1"
      },
      "source": [
        "metrics.precision_score(y_test, y_pred)"
      ],
      "execution_count": null,
      "outputs": [
        {
          "output_type": "execute_result",
          "data": {
            "text/plain": [
              "0.6878980891719745"
            ]
          },
          "metadata": {
            "tags": []
          },
          "execution_count": 348
        }
      ]
    },
    {
      "cell_type": "code",
      "metadata": {
        "id": "gs-ysfNetkUj",
        "outputId": "f59b8de9-f274-47a5-83cd-e710c1c55162"
      },
      "source": [
        "metrics.recall_score(y_test, y_pred)"
      ],
      "execution_count": null,
      "outputs": [
        {
          "output_type": "execute_result",
          "data": {
            "text/plain": [
              "0.6101694915254238"
            ]
          },
          "metadata": {
            "tags": []
          },
          "execution_count": 349
        }
      ]
    },
    {
      "cell_type": "code",
      "metadata": {
        "id": "q4Yeo_ZftkUj",
        "outputId": "f04883c5-6a03-4c82-efa1-0aecbcdf1957"
      },
      "source": [
        "metrics.f1_score(y_test, y_pred)"
      ],
      "execution_count": null,
      "outputs": [
        {
          "output_type": "execute_result",
          "data": {
            "text/plain": [
              "0.6467065868263473"
            ]
          },
          "metadata": {
            "tags": []
          },
          "execution_count": 350
        }
      ]
    },
    {
      "cell_type": "code",
      "metadata": {
        "id": "HYOIIvTitkUk",
        "outputId": "6abb5988-06ad-41a6-c046-316ff222c862"
      },
      "source": [
        "from sklearn.metrics import classification_report\n",
        "print(metrics.confusion_matrix(y_test, y_pred))\n",
        "print(classification_report(y_test, y_pred))"
      ],
      "execution_count": null,
      "outputs": [
        {
          "output_type": "stream",
          "text": [
            "[[278  49]\n",
            " [ 69 108]]\n",
            "              precision    recall  f1-score   support\n",
            "\n",
            "           0       0.80      0.85      0.82       327\n",
            "           1       0.69      0.61      0.65       177\n",
            "\n",
            "    accuracy                           0.77       504\n",
            "   macro avg       0.74      0.73      0.74       504\n",
            "weighted avg       0.76      0.77      0.76       504\n",
            "\n"
          ],
          "name": "stdout"
        }
      ]
    },
    {
      "cell_type": "markdown",
      "metadata": {
        "id": "i-cWmnYPtkUk"
      },
      "source": [
        "Метрики показали плохой результат, только метрика accuracy выше 0.7, но она не является лучшей метрикой для оценки модели. По важным метриками recall и ф-мера модель показала неудовлетворительный результат."
      ]
    },
    {
      "cell_type": "code",
      "metadata": {
        "id": "bFG-j4PwtkUk",
        "outputId": "14ff02aa-346b-40a9-98a0-22809c28ad7c"
      },
      "source": [
        "metrics.roc_auc_score(y_test, y_pred)"
      ],
      "execution_count": null,
      "outputs": [
        {
          "output_type": "execute_result",
          "data": {
            "text/plain": [
              "0.7301611983621002"
            ]
          },
          "metadata": {
            "tags": []
          },
          "execution_count": 352
        }
      ]
    },
    {
      "cell_type": "markdown",
      "metadata": {
        "id": "4u46EhEftkUk"
      },
      "source": [
        "#### Построение классификатора методом k-ближайших соседей"
      ]
    },
    {
      "cell_type": "markdown",
      "metadata": {
        "id": "hbPRFLsFtkUk"
      },
      "source": [
        "Для начала используем K со значением 5"
      ]
    },
    {
      "cell_type": "code",
      "metadata": {
        "id": "Mzv54CMwtkUk",
        "outputId": "571d5908-0e82-42d0-e519-8d2af221f19b"
      },
      "source": [
        "from sklearn.neighbors import KNeighborsClassifier\n",
        "classifier = KNeighborsClassifier(n_neighbors=5)\n",
        "classifier.fit(x_train, y_train)"
      ],
      "execution_count": null,
      "outputs": [
        {
          "output_type": "execute_result",
          "data": {
            "text/plain": [
              "KNeighborsClassifier()"
            ]
          },
          "metadata": {
            "tags": []
          },
          "execution_count": 365
        }
      ]
    },
    {
      "cell_type": "code",
      "metadata": {
        "id": "5lsQ92ZFtkUk"
      },
      "source": [
        "y_pred = classifier.predict(x_test)"
      ],
      "execution_count": null,
      "outputs": []
    },
    {
      "cell_type": "code",
      "metadata": {
        "id": "mjUI07QStkUk",
        "outputId": "62950bd9-1c23-4895-e64d-fee0303b0b9f"
      },
      "source": [
        "metrics.confusion_matrix(y_test, y_pred)"
      ],
      "execution_count": null,
      "outputs": [
        {
          "output_type": "execute_result",
          "data": {
            "text/plain": [
              "array([[267,  60],\n",
              "       [ 89,  88]], dtype=int64)"
            ]
          },
          "metadata": {
            "tags": []
          },
          "execution_count": 367
        }
      ]
    },
    {
      "cell_type": "code",
      "metadata": {
        "id": "UpCmmMhZtkUl",
        "outputId": "b5fa0629-25a5-446e-d5fd-36c44b4f7f7e"
      },
      "source": [
        "%matplotlib inline\n",
        "class_names = [0, 1]\n",
        "fig, ax = plt.subplots()\n",
        "ticks = np.arange(len(class_names))\n",
        "plt.xticks(ticks, class_names)\n",
        "plt.yticks(ticks, class_names)\n",
        "sns.heatmap(pd.DataFrame(\n",
        "metrics.confusion_matrix(y_test, y_pred)), annot=True)\n",
        "plt.ylabel('Действительные значения')\n",
        "plt.xlabel('Предсказанные значения')"
      ],
      "execution_count": null,
      "outputs": [
        {
          "output_type": "execute_result",
          "data": {
            "text/plain": [
              "Text(0.5,15,'Предсказанные значения')"
            ]
          },
          "metadata": {
            "tags": []
          },
          "execution_count": 368
        },
        {
          "output_type": "display_data",
          "data": {
            "image/png": "[encoded data removed]",
            "text/plain": [
              "<Figure size 432x288 with 2 Axes>"
            ]
          },
          "metadata": {
            "tags": [],
            "needs_background": "light"
          }
        }
      ]
    },
    {
      "cell_type": "code",
      "metadata": {
        "id": "1F6naXKwtkUl",
        "outputId": "11622e75-a46c-45a6-ba4e-22394fb8923b"
      },
      "source": [
        "from sklearn.metrics import classification_report\n",
        "print(metrics.confusion_matrix(y_test, y_pred))\n",
        "print(classification_report(y_test, y_pred))"
      ],
      "execution_count": null,
      "outputs": [
        {
          "output_type": "stream",
          "text": [
            "[[267  60]\n",
            " [ 89  88]]\n",
            "              precision    recall  f1-score   support\n",
            "\n",
            "           0       0.75      0.82      0.78       327\n",
            "           1       0.59      0.50      0.54       177\n",
            "\n",
            "    accuracy                           0.70       504\n",
            "   macro avg       0.67      0.66      0.66       504\n",
            "weighted avg       0.70      0.70      0.70       504\n",
            "\n"
          ],
          "name": "stdout"
        }
      ]
    },
    {
      "cell_type": "code",
      "metadata": {
        "id": "haGKYOaYtkUl",
        "outputId": "a2e9f723-bdc4-4b00-936f-f8b5382e6592"
      },
      "source": [
        "metrics.accuracy_score(y_test, y_pred)"
      ],
      "execution_count": null,
      "outputs": [
        {
          "output_type": "execute_result",
          "data": {
            "text/plain": [
              "0.7043650793650794"
            ]
          },
          "metadata": {
            "tags": []
          },
          "execution_count": 370
        }
      ]
    },
    {
      "cell_type": "code",
      "metadata": {
        "id": "PEVJgOzjtkUl",
        "outputId": "97d1bec0-f2df-403b-caca-ef6a21875132"
      },
      "source": [
        "metrics.roc_auc_score(y_test, y_pred)"
      ],
      "execution_count": null,
      "outputs": [
        {
          "output_type": "execute_result",
          "data": {
            "text/plain": [
              "0.6568444513554139"
            ]
          },
          "metadata": {
            "tags": []
          },
          "execution_count": 371
        }
      ]
    },
    {
      "cell_type": "markdown",
      "metadata": {
        "id": "QA3xTu3RtkUl"
      },
      "source": [
        "#### Классификатор методом опорных векторов"
      ]
    },
    {
      "cell_type": "code",
      "metadata": {
        "id": "fZ72s4NktkUl",
        "outputId": "f7397b96-1fcb-42bd-c105-7f81a538cdf9"
      },
      "source": [
        "from sklearn.svm import SVC\n",
        "svclassifier = SVC(kernel='linear')\n",
        "svclassifier.fit(x_train, y_train)"
      ],
      "execution_count": null,
      "outputs": [
        {
          "output_type": "execute_result",
          "data": {
            "text/plain": [
              "SVC(kernel='linear')"
            ]
          },
          "metadata": {
            "tags": []
          },
          "execution_count": 372
        }
      ]
    },
    {
      "cell_type": "code",
      "metadata": {
        "id": "6-iEGMzItkUm"
      },
      "source": [
        "y_pred = svclassifier.predict(x_test)"
      ],
      "execution_count": null,
      "outputs": []
    },
    {
      "cell_type": "code",
      "metadata": {
        "id": "YP-unWAmtkUm",
        "outputId": "dc38a871-43b6-43b0-90f7-81ed0d2cb903"
      },
      "source": [
        "print(metrics.confusion_matrix(y_test, y_pred))\n",
        "print(classification_report(y_test, y_pred))"
      ],
      "execution_count": null,
      "outputs": [
        {
          "output_type": "stream",
          "text": [
            "[[266  61]\n",
            " [ 54 123]]\n",
            "              precision    recall  f1-score   support\n",
            "\n",
            "           0       0.83      0.81      0.82       327\n",
            "           1       0.67      0.69      0.68       177\n",
            "\n",
            "    accuracy                           0.77       504\n",
            "   macro avg       0.75      0.75      0.75       504\n",
            "weighted avg       0.77      0.77      0.77       504\n",
            "\n"
          ],
          "name": "stdout"
        }
      ]
    },
    {
      "cell_type": "code",
      "metadata": {
        "id": "CjSpG7G-tkUm",
        "outputId": "0a002116-c743-4ce6-d142-59e7b9f989a6"
      },
      "source": [
        "metrics.roc_auc_score(y_test, y_pred)"
      ],
      "execution_count": null,
      "outputs": [
        {
          "output_type": "execute_result",
          "data": {
            "text/plain": [
              "0.7541854558648213"
            ]
          },
          "metadata": {
            "tags": []
          },
          "execution_count": 375
        }
      ]
    },
    {
      "cell_type": "code",
      "metadata": {
        "id": "kIBhRqn0tkUm",
        "outputId": "8e0a4c5c-2447-425b-f838-d3cef65186c8"
      },
      "source": [
        "%matplotlib inline\n",
        "class_names = [0, 1]\n",
        "fig, ax = plt.subplots()\n",
        "ticks = np.arange(len(class_names))\n",
        "plt.xticks(ticks, class_names)\n",
        "plt.yticks(ticks, class_names)\n",
        "sns.heatmap(pd.DataFrame(\n",
        "metrics.confusion_matrix(y_test, y_pred)), annot=True)\n",
        "plt.ylabel('Действительные значения')\n",
        "plt.xlabel('Предсказанные значения')"
      ],
      "execution_count": null,
      "outputs": [
        {
          "output_type": "execute_result",
          "data": {
            "text/plain": [
              "Text(0.5,15,'Предсказанные значения')"
            ]
          },
          "metadata": {
            "tags": []
          },
          "execution_count": 376
        },
        {
          "output_type": "display_data",
          "data": {
            "image/png": "[encoded data removed]",
            "text/plain": [
              "<Figure size 432x288 with 2 Axes>"
            ]
          },
          "metadata": {
            "tags": [],
            "needs_background": "light"
          }
        }
      ]
    },
    {
      "cell_type": "code",
      "metadata": {
        "id": "saNVWQyDtkUm",
        "outputId": "846a477b-7d1c-445b-8105-bb72f57ccd6d"
      },
      "source": [
        "metrics.accuracy_score(y_test, y_pred)"
      ],
      "execution_count": null,
      "outputs": [
        {
          "output_type": "execute_result",
          "data": {
            "text/plain": [
              "0.7718253968253969"
            ]
          },
          "metadata": {
            "tags": []
          },
          "execution_count": 377
        }
      ]
    },
    {
      "cell_type": "markdown",
      "metadata": {
        "id": "sD38ZLXKtkUm"
      },
      "source": [
        "### Заключение\n",
        "Лучшей моделью является классификатор на основе опорных векторов.    \n",
        "Метричные показатели не велики, поскольку данные сильно зависят от человечкского фактора. Более точно предсказать нельзя."
      ]
    }
  ]
}